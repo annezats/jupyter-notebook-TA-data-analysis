{
 "cells": [
  {
   "cell_type": "code",
   "execution_count": 2,
   "metadata": {},
   "outputs": [],
   "source": [
    "import numpy as np\n",
    "import matplotlib.pyplot as plt\n",
    "from scipy.special import erf\n",
    "from scipy.interpolate import interp1d\n",
    "from scipy.optimize import curve_fit\n",
    "import matplotlib.lines as mlines\n",
    "import ipywidgets as widgets\n",
    "from ipywidgets import Layout\n",
    "from math import exp"
   ]
  },
  {
   "cell_type": "code",
   "execution_count": 3,
   "metadata": {},
   "outputs": [
    {
     "name": "stdout",
     "output_type": "stream",
     "text": [
      "\n",
      "Date: March 16, 2015\n",
      "Sample: NODIPS-22BP-Chloroform\n",
      "Solvent: THF\n",
      "Pump energy (uJ): 200 uW\n",
      "Pump wavelength (nm): 600\n",
      "Cuvette length (mm): 2\n",
      "Comments: Time Zero: 505.800 ps\n",
      "Averaging time: 2.0 s\n",
      "Number of scans: 2\n",
      "Measurement time: 00:37:49\n",
      "\n",
      "Time units: ps\n",
      "Z axis title: dA\n"
     ]
    }
   ],
   "source": [
    "filename=\"22BPNODIPS chloroform 600 200mW PTA fixed.csv\"#22BPNODIPS chloroform 600 200mW PTA fixed.csv\n",
    "rawdata = open(filename)\n",
    "\n",
    "#step 1: split the data from the info at the end\n",
    "#making it into new files: optional, can stick them into variables instead\n",
    "fileinfo=filename[0:-4]+\"-info\"+\".csv\"\n",
    "fileinfofile= open(fileinfo, \"w\") #'w' makes it write only so deletes prev version of it\n",
    "justdata=filename[0:-4]+\"-data\"+\".csv\"\n",
    "justdatafile=open(justdata, \"w\")\n",
    "\n",
    "for line in rawdata:\n",
    "    if len(line)<100: #if it is not data but text\n",
    "        fileinfofile.write(line) \n",
    "    #step 2: remove the NaNs at the begining\n",
    "    else: \n",
    "        nan=False\n",
    "        for char in line:\n",
    "            if char == 'N':\n",
    "                nan=True\n",
    "                break\n",
    "        if nan:\n",
    "            continue\n",
    "        else:\n",
    "            justdatafile.write(line)\n",
    "fileinfofile.close() #its good practice to close files :)\n",
    "rawdata.close()\n",
    "justdatafile.close()\n",
    "print((open(fileinfo)).read())"
   ]
  },
  {
   "cell_type": "code",
   "execution_count": 4,
   "metadata": {},
   "outputs": [
    {
     "name": "stdout",
     "output_type": "stream",
     "text": [
      "(456, 454)\n",
      "(453,)\n",
      "(455,)\n",
      "(455, 453)\n"
     ]
    }
   ],
   "source": [
    "dataarray = (np.genfromtxt(justdata, delimiter=\",\",  filling_values=0)).T\n",
    "print(np.shape(dataarray))\n",
    "X=dataarray[0,1:].T #works\n",
    "Y=dataarray[1:,0]\n",
    "Z=dataarray[1:,1:]\n",
    "print(np.shape(X))\n",
    "print(np.shape(Y))\n",
    "print(np.shape(Z))"
   ]
  },
  {
   "cell_type": "code",
   "execution_count": 5,
   "metadata": {},
   "outputs": [],
   "source": [
    "#step 3: remove the noise at the begining and end\n",
    "#read the begining, check if its noise, remove it\n",
    "#same thing from the end\n",
    "\n",
    "listofR=[]\n",
    "#print((np.shape(X)))\n",
    "coef=0.4 #for first dataset it was 0.4 THIS NEEDS ADJUSTING\n",
    "for col in range((np.shape(X))[0]):\n",
    "    slice2=Z[:,col]\n",
    "    R=abs(np.corrcoef(Y,slice2))[0,1]\n",
    "    listofR.append(R)\n",
    "    #print(R)\n",
    "i=0\n",
    "while listofR[i]<coef: #find uncorrelated data in the beginning \n",
    "    Z=np.delete(Z,0,1) #remove that row from Z\n",
    "    X=np.delete(X,0,0) #remove the wavelength too\n",
    "    i=i+1\n",
    "i=(np.shape(X))[0]-1#same thing but from the end\n",
    "while listofR[i]<coef:\n",
    "    Z=np.delete(Z,-1,1)\n",
    "    X=np.delete(X,-1,0)\n",
    "    i=i-1\n"
   ]
  },
  {
   "cell_type": "code",
   "execution_count": 6,
   "metadata": {},
   "outputs": [
    {
     "name": "stdout",
     "output_type": "stream",
     "text": [
      "600\n"
     ]
    }
   ],
   "source": [
    "#step 4: remove the laser\n",
    "#add a manual option\n",
    "fileinforead=open(fileinfo)\n",
    "pumpwl=0\n",
    "for line in fileinforead:\n",
    "    if line[0:15]=='Pump wavelength':\n",
    "        pumpwl= int(line[-4:-1])\n",
    "        print(pumpwl)\n",
    "if pumpwl!=0:\n",
    "    starti = np.searchsorted(X, (pumpwl - 20))#this can be adjusted\n",
    "    endi = np.searchsorted(X, (pumpwl + 20))\n",
    "    Z[:,starti:endi]=0\n",
    "if pumpwl==0:\n",
    "    print(\"did not find data\")"
   ]
  },
  {
   "cell_type": "code",
   "execution_count": 7,
   "metadata": {
    "scrolled": true
   },
   "outputs": [
    {
     "data": {
      "application/vnd.jupyter.widget-view+json": {
       "model_id": "08213078cd414a3596e0f151b9a97a37",
       "version_major": 2,
       "version_minor": 0
      },
      "text/plain": [
       "Canvas(toolbar=Toolbar(toolitems=[('Home', 'Reset original view', 'home', 'home'), ('Back', 'Back to previous …"
      ]
     },
     "metadata": {},
     "output_type": "display_data"
    }
   ],
   "source": [
    "%matplotlib widget\n",
    "plt.pcolormesh(X,Y,Z, cmap='jet', shading='nearest')\n",
    "#shading='nearest' makes the pixels centered on the coordinates\n",
    "#plt.yscale('log')\n",
    "\n",
    "plt.ylabel('Time(ps)')\n",
    "plt.xlabel('Wavelength(nm)')\n",
    "\n",
    "plt.savefig(\"mygraph.png\")"
   ]
  },
  {
   "cell_type": "code",
   "execution_count": null,
   "metadata": {},
   "outputs": [
    {
     "name": "stdout",
     "output_type": "stream",
     "text": [
      "Y value for wavelength 400:-0.65\n",
      "Y value for wavelength 450:-0.2\n"
     ]
    }
   ],
   "source": [
    "#DONT need this :)\n",
    "#making the curve \n",
    "x=[]\n",
    "y=[]\n",
    "for i in range(0,10):\n",
    "    x.append(400+i*50)    \n",
    "    y.append(input(\"Y value for wavelength \"+str(x[i])+\":\"))"
   ]
  },
  {
   "cell_type": "code",
   "execution_count": null,
   "metadata": {},
   "outputs": [],
   "source": [
    "#finds the important wavelengths for the gaussian\n",
    "maxZ=max(Z)\n",
    "fiveper = maxZ*0.05\n",
    "\n",
    "for i in range(0,10):\n",
    "    stArt=np.searchsorted(X,(400+i*50))\n",
    "    eNd=np.searchsorted(X,(450+i*50))\n",
    "    #also make the list of x's\n",
    "    #^make that better.\n",
    "    for wl in range(stArt,eNd):\n",
    "        maxes.append(max(Z[:,wl]))#finds max of each of 50 wls, appends to maxes[]\n",
    "    if max(maxes)< fiveper:\n",
    "        continue\n",
    "    else:\n",
    "        wl= maxes.index(max(maxes))+stArt #finds index of max(maxes), adds to start of chunk\n",
    "        #do the gauss thing for this wl\n",
    "        Finalt0.append[0]#append the real finalt0\n",
    "    maxes=[]  \n",
    "\n"
   ]
  },
  {
   "cell_type": "code",
   "execution_count": 9,
   "metadata": {},
   "outputs": [],
   "source": [
    "#CHIRP CORRECTOR-------\n",
    "it0=[]\n",
    "for wl in range(0,np.shape(X)[0]):\n",
    "    it0.append(np.searchsorted(Y,t0[wl]))#gets the index of that wl's t0\n",
    "    \n",
    "T0=float(y[0])#-0.6\n",
    "iT0=np.searchsorted(Y,T0)\n",
    "Znew=Z.copy()\n",
    "Ynew=Y.copy()\n",
    "for wl in range(0,np.shape(X)[0]):\n",
    "    shift=0-t0[wl] #note, not all data is around zero, might have to change\n",
    "    for t in range(iT0,np.shape(Y)[0]-1):#start changing from main T0\n",
    "        Ynew[t]=Y[t]+shift\n",
    "        Znew[t,wl]=Z[t,wl]\n",
    "    f=interp1d(Ynew,Znew[:,wl], kind=\"linear\", fill_value=\"extrapolate\")       \n",
    "    Znew[:,wl]=f(Y)"
   ]
  },
  {
   "cell_type": "code",
   "execution_count": 87,
   "metadata": {},
   "outputs": [
    {
     "name": "stderr",
     "output_type": "stream",
     "text": [
      "/Library/Frameworks/Python.framework/Versions/3.7/lib/python3.7/site-packages/ipykernel_launcher.py:4: RuntimeWarning: overflow encountered in power\n",
      "  after removing the cwd from sys.path.\n"
     ]
    },
    {
     "name": "stdout",
     "output_type": "stream",
     "text": [
      "-0.2566705092515921 407.122296725\n",
      "-0.2278101863929131 408.290695225\n",
      "-0.2548170137564285 409.459231885\n",
      "-0.2681663664704614 410.627906705\n",
      "-0.2701122371544788 411.796719685\n",
      "-0.27826489911365143 412.965670825\n",
      "-0.2716227152092423 414.134760125\n",
      "-0.2523886010059614 415.303987585\n",
      "-0.22339514025946086 416.473353205\n",
      "-0.23661178155858822 417.642856985\n",
      "-0.22537952748445161 418.812498925\n",
      "-0.21617979473620877 419.982279025\n",
      "-0.21002546190581226 421.152197285\n",
      "-0.19289019639991978 422.322253705\n",
      "-0.18884495428562337 423.492448285\n",
      "-0.18575117285347556 424.662781025\n",
      "-0.17163909905920613 425.833251925\n",
      "-0.1692104774791442 427.003860985\n",
      "-0.15965186914861726 428.174608205\n",
      "-0.15185534160330488 429.345493585\n",
      "-0.14462632797541827 430.516517125\n",
      "-0.13437524143581556 431.687678825\n",
      "-0.12670581557885954 432.858978685\n",
      "-0.119797400049032 434.030416705\n",
      "-0.11181648212329214 435.201992885\n",
      "-0.10538241607614389 436.373707225\n",
      "-0.09847235939859945 437.545559725\n",
      "-0.08914085003013057 438.717550385\n",
      "-0.08350418619462559 439.889679205\n",
      "-0.07624703000588938 441.061946185\n",
      "-0.06851789546175907 442.234351325\n",
      "-0.06269021926956808 443.406894625\n",
      "-0.0555067199519307 444.579576085\n",
      "-0.04974676130963155 445.752395705\n",
      "-0.04273388962402677 446.925353485\n",
      "-0.03655046286192509 448.098449425\n",
      "-0.030657773523101277 449.271683525\n",
      "-0.024535895014323014 450.445055785\n",
      "-0.018110516229012986 451.618566205\n",
      "-0.011108737066174323 452.792214785\n",
      "-0.004200484729238931 453.966001525\n",
      "0.0016302886736768813 455.139926425\n",
      "0.008762172288670284 456.313989485\n",
      "0.015832158127908773 457.488190705\n",
      "0.022172258123522623 458.662530085\n",
      "0.029275490942100357 459.837007625\n",
      "0.035653234832725395 461.011623325\n",
      "0.04239394486407949 462.186377185\n",
      "0.04904020135240852 463.361269205\n",
      "0.05576045281139453 464.536299385\n",
      "0.061676514484664186 465.711467725\n",
      "0.06848186700929487 466.886774225\n",
      "0.0753268221186046 468.062218885\n",
      "0.0817411444606812 469.237801705\n",
      "0.08785051819413117 470.413522685\n",
      "0.09498219366662435 471.589381825\n",
      "0.09964372523122811 472.765379125\n",
      "0.10573104927434955 473.941514585\n",
      "0.11159308529837407 475.117788205\n",
      "0.11767342783390584 476.294199985\n",
      "0.12352348719787443 477.470749925\n",
      "0.12861129916363337 478.647438025\n",
      "0.13425451075340478 479.824264285\n",
      "0.13936990945374053 481.001228705\n",
      "0.14466084903180834 482.178331285\n",
      "0.14905798642307178 483.355572025\n",
      "0.15550820435926802 484.532950925\n",
      "0.15869817293115873 485.710467985\n",
      "0.16396947067033044 486.888123205\n",
      "0.16732669690317378 488.065916585\n",
      "0.1722195753718495 489.243848125\n",
      "0.17422237223591425 490.421917825\n"
     ]
    },
    {
     "name": "stderr",
     "output_type": "stream",
     "text": [
      "/Library/Frameworks/Python.framework/Versions/3.7/lib/python3.7/site-packages/ipykernel_launcher.py:4: RuntimeWarning: invalid value encountered in multiply\n",
      "  after removing the cwd from sys.path.\n"
     ]
    },
    {
     "name": "stdout",
     "output_type": "stream",
     "text": [
      "0.1816729558901211 491.600125685\n",
      "0.18898753380089245 492.778471705\n",
      "0.1931310433263053 493.956955885\n",
      "0.20082647567574083 495.135578225\n",
      "0.20674745071441814 496.314338725\n",
      "0.21409693047011297 497.493237385\n",
      "0.21977005157118168 498.672274205\n",
      "0.2241528710915008 499.851449185\n",
      "0.22917490143680772 501.030762325\n",
      "0.2329885312267526 502.210213625\n",
      "0.2407532172198933 503.389803085\n",
      "0.23983666134324216 504.569530705\n",
      "0.2419843852321839 505.749396485\n",
      "0.2460359183700653 506.929400425\n",
      "0.24735733680785155 508.109542525\n",
      "0.25183281883784514 509.289822785\n"
     ]
    },
    {
     "name": "stderr",
     "output_type": "stream",
     "text": [
      "/Library/Frameworks/Python.framework/Versions/3.7/lib/python3.7/site-packages/ipykernel_launcher.py:4: RuntimeWarning: invalid value encountered in add\n",
      "  after removing the cwd from sys.path.\n"
     ]
    },
    {
     "name": "stdout",
     "output_type": "stream",
     "text": [
      "0.25750359757110575 510.470241205\n",
      "0.259508855981312 511.650797785\n",
      "0.2647357839408938 512.831492525\n",
      "0.2716384456066258 514.012325425\n",
      "0.2750327592323424 515.193296485\n",
      "0.2807919019275372 516.374405705\n",
      "0.28496299981243495 517.555653085\n",
      "0.2901786002805635 518.737038625\n",
      "0.2933320932444332 519.918562325\n",
      "0.29752103402959995 521.100224185\n",
      "0.30074366885227927 522.282024205\n",
      "0.30590596776787066 523.463962385\n",
      "0.3095227137799555 524.646038725\n",
      "0.31479524815156157 525.828253225\n",
      "0.3167599392033457 527.010605885\n",
      "0.32090379439532424 528.193096705\n",
      "0.3244367036273091 529.375725685\n",
      "0.32670903475670077 530.558492825\n",
      "0.3303828080294171 531.741398125\n",
      "0.33317423148148867 532.924441585\n",
      "0.3371537069494268 534.107623205\n",
      "0.34078113707138935 535.290942985\n",
      "0.3428062427829022 536.474400925\n",
      "0.34632489004673417 537.657997025\n",
      "0.3498051545537653 538.841731285\n",
      "0.3511601649302056 540.025603705\n",
      "0.353467565356205 541.209614285\n",
      "0.3567757678595757 542.393763025\n",
      "0.3595179407829646 543.578049925\n",
      "0.3609601938100197 544.762474985\n",
      "0.36356436571283224 545.947038205\n",
      "0.3653718281496272 547.131739585\n",
      "0.3683105666752411 548.316579125\n",
      "0.3706363729897422 549.501556825\n",
      "0.37475311485845086 550.686672685\n",
      "0.3762964851157642 551.871926705\n",
      "0.3793259471486031 553.057318885\n",
      "0.3813444389754818 554.242849225\n",
      "0.3838754373484172 555.428517725\n",
      "0.38634253474101304 556.614324385\n",
      "0.38999864827795094 557.800269205\n",
      "0.3931272749551316 558.986352185\n",
      "0.3957850927115626 560.172573325\n",
      "0.3980986946426919 561.358932625\n",
      "0.40036577665237344 562.545430085\n",
      "0.4045234007793863 563.732065705\n",
      "0.40790749851220826 564.918839485\n",
      "0.4105118373763925 566.105751425\n",
      "0.4140188422173267 567.292801525\n",
      "0.4165037294790384 568.479989785\n",
      "0.4255851716021596 569.667316205\n",
      "0.4203274644718104 570.854780785\n",
      "0.42099484763078504 572.042383525\n",
      "0.42139164078803815 573.230124425\n",
      "0.4289064509029165 574.418003485\n",
      "0.43204828229586817 575.606020705\n",
      "0.43834156513868955 576.794176085\n",
      "0.4393504435477589 577.982469625\n",
      "0.43988511460177154 579.170901325\n",
      "0.21892183817889577 622.046457085\n",
      "0.5192634162004157 623.240000705\n",
      "0.24638684972973832 624.433682485\n",
      "0.26227853309211985 625.627502425\n",
      "0.2585103756442058 626.821460525\n",
      "0.24276541936479146 628.015556785\n",
      "0.2508658768981785 629.209791205\n",
      "0.5320455242981726 630.404163785\n",
      "nan 631.598674525\n",
      "0.21685720750491524 632.793323425\n",
      "0.5396037785699074 633.988110485\n",
      "0.2599475189817572 635.183035705\n",
      "0.2531225212807892 636.378099085\n",
      "nan 637.573300625\n",
      "0.2191861893423536 638.768640325\n",
      "0.5400163288409262 639.964118185\n",
      "0.2943160163036657 641.159734205\n",
      "0.25906037456825454 642.355488385\n",
      "0.3928571868888376 643.551380725\n",
      "0.4310878314759325 644.747411225\n",
      "-0.2157394860327056 645.943579885\n",
      "0.016450141431117088 647.139886705\n",
      "0.11569890805922962 648.336331685\n",
      "0.1966420825935298 649.532914825\n",
      "0.13670219445887946 650.729636125\n",
      "0.18350957033939816 651.926495585\n",
      "0.20115854668447644 653.123493205\n",
      "0.16956686569174517 654.320628985\n",
      "0.16811552613071842 655.517902925\n",
      "0.1389941072071077 656.715315025\n",
      "0.14999686523457986 657.912865285\n",
      "0.10131226425742097 659.110553705\n",
      "0.0919999740935415 660.308380285\n",
      "0.0777680801563813 661.506345025\n",
      "0.08470809868252903 662.704447925\n",
      "0.020231826716895406 663.902688985\n",
      "0.6205272046029549 665.101068205\n",
      "0.6211224755562372 666.299585585\n",
      "0.6217277449899251 667.498241125\n",
      "0.6346413326142587 668.697034825\n",
      "1.1568828958537671 669.895966685\n",
      "0.6406141437903079 671.095036705\n",
      "0.6403187301466208 672.294244885\n",
      "0.6269393054861584 673.493591225\n",
      "0.8101622333638117 674.693075725\n",
      "0.8143889106805132 675.892698385\n",
      "0.47186502889414017 677.092459205\n",
      "1.079758549450238 678.292358185\n",
      "0.6218883309223485 679.492395325\n",
      "0.49149646349930304 680.692570625\n",
      "0.5693328878585682 681.892884085\n",
      "0.29644213361396293 683.093335705\n",
      "0.4480238892142268 684.293925485\n",
      "0.5152443017740032 685.494653425\n",
      "0.4707731242953984 686.695519525\n",
      "0.39177296721971383 687.896523785\n",
      "0.4909652689208819 689.097666205\n",
      "0.36899547307120567 690.298946785\n",
      "0.49053910928632927 691.500365525\n",
      "0.2891423842728196 692.701922425\n",
      "0.43224841959049803 693.903617485\n",
      "0.41994111912058363 695.105450705\n",
      "0.4208917994554619 696.307422085\n",
      "0.49075660311035507 697.509531625\n",
      "0.5315343448482264 698.711779325\n",
      "0.49543314797461385 699.914165185\n",
      "0.5677697681572681 701.116689205\n",
      "0.4318958032041098 702.319351385\n",
      "0.578914743308101 703.522151725\n",
      "0.5968883410972847 704.725090225\n",
      "0.5315288013502546 705.928166885\n",
      "0.25141384980753817 707.131381705\n",
      "0.5267085354693245 708.334734685\n",
      "0.28963199311783683 709.538225825\n",
      "1.0584417598222418 710.741855125\n",
      "0.5777317791688132 711.945622585\n",
      "0.65952933536228 713.149528205\n",
      "0.6750534067571207 714.353571985\n",
      "0.5468118764651673 715.557753925\n",
      "1.0907207631082094 716.762074025\n",
      "0.7896250350552955 717.966532285\n",
      "0.6904584167893114 719.171128705\n",
      "1.1770038644602379 720.375863285\n",
      "0.6892453964913471 721.580736025\n",
      "1.0091649079749954 722.785746925\n",
      "0.8642888886656866 723.990895985\n",
      "0.8378798243096697 725.196183205\n",
      "0.7997035228507743 726.401608585\n",
      "0.8270092214495735 727.607172125\n",
      "0.9168094821562904 728.812873825\n",
      "0.838800990558092 730.018713685\n",
      "0.951514827347977 731.224691705\n",
      "0.898404240935154 732.430807885\n",
      "0.9507073485772347 733.637062225\n",
      "0.8415997971645574 734.843454725\n",
      "0.8324033398565158 736.049985385\n",
      "0.8799982705029751 737.256654205\n",
      "0.8230895422778939 738.463461185\n",
      "0.8231032352228256 739.670406325\n",
      "1.0055750448698164 740.877489625\n",
      "0.9456900576409395 742.084711085\n",
      "1.1160741721659642 743.292070705\n",
      "0.9402657656598398 744.499568485\n",
      "0.9352681670162536 745.707204425\n",
      "0.8904003571764062 746.914978525\n",
      "0.7892714097640691 748.122890785\n",
      "0.8648999076458433 749.330941205\n",
      "0.7566507939777021 750.539129785\n",
      "0.5670306954771316 751.747456525\n",
      "0.4515372662629333 752.955921425\n",
      "0.46675583399230536 754.164524485\n",
      "0.3902653533034812 755.373265705\n",
      "0.3000589587211642 756.582145085\n",
      "0.3058411795953013 757.791162625\n",
      "0.7063296412823364 759.000318325\n",
      "0.4382391579741232 760.209612185\n",
      "0.7213004237327906 761.419044205\n",
      "0.4343081080431051 762.628614385\n",
      "0.4272022700829834 763.838322725\n",
      "0.3969647127095268 765.048169225\n",
      "0.5017105449398324 766.258153885\n",
      "0.34976163707806146 767.468276705\n",
      "0.5480420328735948 768.678537685\n",
      "0.3504566707435374 769.888936825\n",
      "0.38660311106675815 771.099474125\n",
      "0.29734721960566934 772.310149585\n",
      "0.27827498276141305 773.520963205\n",
      "0.36405759917983144 774.731914985\n",
      "0.38292408755428053 775.943004925\n",
      "0.4245444133104561 777.154233025\n",
      "0.4537134133819354 778.365599285\n",
      "0.5467600907366317 779.577103705\n",
      "0.5884115008291936 780.788746285\n",
      "0.5760655084695133 782.000527025\n",
      "0.4227318713304666 783.212445925\n",
      "0.3876349044435625 784.424502985\n",
      "0.3681245155795358 785.636698205\n",
      "0.711674563229767 786.849031585\n",
      "0.521845834667284 788.061503125\n",
      "0.19100277891537393 789.274112825\n",
      "0.33830671637329546 790.486860685\n",
      "0.03478619540493483 791.699746705\n",
      "0.034675162853438954 792.912770885\n",
      "0.35110508423270825 794.125933225\n",
      "0.6982454389652983 795.339233725\n",
      "0.4916001848899488 796.552672385\n",
      "0.7890343014851262 797.766249205\n",
      "0.5460215083604063 798.979964185\n",
      "0.5035182172682915 800.193817325\n",
      "0.473055646502416 801.407808625\n",
      "0.5661437481300887 802.621938085\n",
      "0.5401093333432568 803.836205705\n",
      "0.5154729492770656 805.050611485\n",
      "0.5551132049873585 806.265155425\n",
      "0.5369331359039275 807.479837525\n",
      "0.5556949101731441 808.694657785\n",
      "0.5697049195189285 809.909616205\n",
      "0.6028877635255862 811.124712785\n",
      "nan 812.339947525\n",
      "0.6540782718816827 813.555320425\n",
      "0.6807413133459453 814.770831485\n",
      "nan 815.986480705\n",
      "0.5078170999288071 817.202268085\n",
      "nan 818.418193625\n",
      "0.4886345430727668 819.634257325\n",
      "0.4533013522564896 820.850459185\n",
      "0.417541966742263 822.066799205\n",
      "0.4527236418546228 823.283277385\n",
      "0.40907524220104474 824.499893725\n",
      "0.5267620623740593 825.716648225\n",
      "0.42070027919134245 826.933540885\n",
      "0.7599749141594329 828.150571705\n",
      "0.39576511624718763 829.367740685\n",
      "0.521510277318794 830.585047825\n",
      "0.5123467838957881 831.802493125\n",
      "0.22585409285170502 833.020076585\n",
      "0.5484737421036139 834.237798205\n",
      "0.4023912087168126 835.455657985\n",
      "0.5313131998424502 836.673655925\n",
      "nan 837.891792025\n",
      "0.285491919216729 839.110066285\n",
      "0.6937297417689824 840.328478705\n",
      "0.31282056657139967 841.547029285\n",
      "0.4475693351459304 842.765718025\n",
      "0.5988746229207134 843.984544925\n",
      "done!\n"
     ]
    }
   ],
   "source": [
    "#gaussian/ chirp corrector 2.0\n",
    "e=2.718281828\n",
    "def curve1(t, y0,pw,t0,a1,k1,a2,k2,a3,k3):#,a4,k4,a5,k5,a6,k6):\n",
    "    return y0+0.5*a1*(e**(-k1*(t-t0-(pw**2)*k1/2)))*(1+erf((t-t0-k1*(pw**2))/(1.41421356237*pw)))+0.5*(a2*e**(-k2*(t-t0-(pw**2)*k2/2)))*(1+erf((t-t0-k2*(pw**2))/(1.41421356237*pw)))+0.5*(a3*e**(-k3*(t-t0-(pw**2)*k3/2)))*(1+erf((t-t0-k3*(pw**2))/(1.41421356237*pw)))#+0.5*pow(a4,(-k4*(t-t0-pow(pw,2)*k4/2)))*(1+erf((t-t0-k4*pow(pw,2))/(1.41421356237*pw)))+0.5*pow(a5,(-k5*(t-t0-pow(pw,2)*k5/2)))*(1+erf((t-t0-k5*pow(pw,2))/(1.41421356237*pw)))+0.5*pow(a6,(-k6*(t-t0-pow(pw,2)*k6/2)))*(1+erf((t-t0-k6*pow(pw,2))/(1.41421356237*pw)))\n",
    "T=[]\n",
    "for wl in range(0,np.shape(x)[0]):\n",
    "    \n",
    "    f=interp1d(Y,Z[:,wl], kind=\"linear\", fill_value=\"extrapolate\")   \n",
    "    Ybig=np.linspace(-100,2600,20000) #start,end,num of points\n",
    "    Zbig=f(Ybig)\n",
    "    \n",
    "    if starti<=wl<=endi: #these are the indices around the pump wavelength that are all zero\n",
    "        T.append(0) #whyyyy does this only kind of work...\n",
    "        continue\n",
    "    params, pc = curve_fit(curve1, Y,Z[:,wl],maxfev=100000, p0=[1e-6,0.1,params[2],1e-3,1,1e-3,1e-2,1e-3,1e-3])\n",
    "    T.append(params[2]) #use this as next\n",
    "    print(T[wl],X[wl])\n",
    "print(\"done!\")"
   ]
  },
  {
   "cell_type": "code",
   "execution_count": 8,
   "metadata": {
    "scrolled": true
   },
   "outputs": [
    {
     "name": "stdout",
     "output_type": "stream",
     "text": [
      "[ 2.48640198e-08 -5.58624612e-05  4.22950602e-02 -1.02078310e+01]\n"
     ]
    },
    {
     "data": {
      "application/vnd.jupyter.widget-view+json": {
       "model_id": "b58166be1cbb4e8c9190c332f196e6e4",
       "version_major": 2,
       "version_minor": 0
      },
      "text/plain": [
       "Canvas(toolbar=Toolbar(toolitems=[('Home', 'Reset original view', 'home', 'home'), ('Back', 'Back to previous …"
      ]
     },
     "metadata": {},
     "output_type": "display_data"
    },
    {
     "data": {
      "text/plain": [
       "<matplotlib.colorbar.Colorbar at 0x7fe8858ceb50>"
      ]
     },
     "execution_count": 8,
     "metadata": {},
     "output_type": "execute_result"
    }
   ],
   "source": [
    "%matplotlib widget\n",
    "#interpolates your points to a curve \n",
    "x=[400,450,500,550,600,650,700,750,800,850]\n",
    "y=['-0.65', '-0.2', '0.1', '0.25', '0.45', '0.5', '0.55', '0.6', '0.6',\"0.65\"]\n",
    "\n",
    "\n",
    "#curve_fit need a function.\n",
    "def test_func(x, a, b, c,d):\n",
    "    return a*pow(x,3)+b*pow(x,2)+c*x+d\n",
    "params, pc = curve_fit(test_func, x, y, maxfev=6000)\n",
    "print(params)\n",
    "t0=test_func(X, params[0], params[1], params[2],params[3])\n",
    "\n",
    "plt.pcolormesh(X,Y,Z, cmap='jet', shading='nearest')\n",
    "plt.plot(X,t0, color=\"white\")\n",
    "plt.ylim(-1,1)\n",
    "plt.colorbar()"
   ]
  },
  {
   "cell_type": "code",
   "execution_count": 88,
   "metadata": {},
   "outputs": [
    {
     "name": "stdout",
     "output_type": "stream",
     "text": [
      "done!\n"
     ]
    }
   ],
   "source": [
    "#also dont think i need this\n",
    "#CHIRP CORRECTOR 2.0??-------\n",
    "Znewer=Z.copy()\n",
    "Ynewer=Y.copy()\n",
    "\n",
    "for wl in range(0,np.shape(X)[0]):\n",
    "    shift=0-T[wl] #note, not all data is around zero, might have to change\n",
    "    for t in range(0,np.shape(Y)[0]-1):#start changing from main T0\n",
    "        Ynewer[t]=Y[t]+shift\n",
    "        Znewer[t,wl]=Z[t,wl]\n",
    "    f=interp1d(Ynewer,Znewer[:,wl], kind=\"linear\", fill_value=\"extrapolate\")       \n",
    "    Znewer[:,wl]=f(Y)\n",
    "print('done!')"
   ]
  },
  {
   "cell_type": "code",
   "execution_count": 89,
   "metadata": {
    "scrolled": true
   },
   "outputs": [
    {
     "data": {
      "application/vnd.jupyter.widget-view+json": {
       "model_id": "56e82ed03b5d4ad39bb62cb1262f3cd2",
       "version_major": 2,
       "version_minor": 0
      },
      "text/plain": [
       "Canvas(toolbar=Toolbar(toolitems=[('Home', 'Reset original view', 'home', 'home'), ('Back', 'Back to previous …"
      ]
     },
     "metadata": {},
     "output_type": "display_data"
    },
    {
     "data": {
      "text/plain": [
       "(406.53809747500003, 844.593958375, -1.0, 1.0)"
      ]
     },
     "execution_count": 89,
     "metadata": {},
     "output_type": "execute_result"
    }
   ],
   "source": [
    "%matplotlib widget\n",
    "fig, (ax1, ax2) = plt.subplots(1, 2)\n",
    "\n",
    "ax1.pcolormesh(X,Y,Z, cmap='jet', shading='nearest') #before\n",
    "ax1.axis(ymin=-1,ymax=1)\n",
    "ax2.pcolormesh(X,Y,Znewer, cmap='jet', shading='nearest')#manual curve\n",
    "ax2.axis(ymin=-1,ymax=1)\n",
    "\n"
   ]
  },
  {
   "cell_type": "code",
   "execution_count": 56,
   "metadata": {
    "tags": [
     "hide"
    ]
   },
   "outputs": [
    {
     "name": "stdout",
     "output_type": "stream",
     "text": [
      "Pump Wavelength (nm): 605Pump Wavelength (nm): 605\n",
      "(454, 337)\n"
     ]
    }
   ],
   "source": [
    "filename=\"testdata.csv\"#22BPNODIPS chloroform 600 200mW PTA fixed.csv\n",
    "rawdata = open(filename)\n",
    "\n",
    "#step 1: split the data from the info at the end\n",
    "#making it into new files: optional, can stick them into variables instead\n",
    "fileinfo=filename[0:-4]+\"-info\"+\".csv\"\n",
    "fileinfofile= open(fileinfo, \"w\") #'w' makes it write only so deletes prev version of it\n",
    "justdata=filename[0:-4]+\"-data\"+\".csv\"\n",
    "justdatafile=open(justdata, \"w\")\n",
    "\n",
    "for line in rawdata:\n",
    "    if len(line)<100: #if it is not data but text\n",
    "        fileinfofile.write(line) \n",
    "    #step 2: remove the NaNs at the begining\n",
    "    else: \n",
    "        nan=False\n",
    "        for char in line:\n",
    "            if char == 'N':\n",
    "                nan=True\n",
    "                break\n",
    "        if nan:\n",
    "            continue\n",
    "        else:\n",
    "            justdatafile.write(line)\n",
    "fileinfofile.close() #its good practice to close files :)\n",
    "rawdata.close()\n",
    "justdatafile.close()\n",
    "print((open(fileinfo)).read())\n",
    "dataarray1 = (np.genfromtxt(justdata, delimiter=\",\",  filling_values=0)).T\n",
    "print(np.shape(dataarray1))\n",
    "A=dataarray1[0,1:].T #works\n",
    "B=dataarray1[1:,0]\n",
    "C=dataarray1[1:,1:]\n"
   ]
  },
  {
   "cell_type": "code",
   "execution_count": 15,
   "metadata": {},
   "outputs": [
    {
     "name": "stdout",
     "output_type": "stream",
     "text": [
      "(455, 367)\n"
     ]
    }
   ],
   "source": [
    "print(np.shape(Znew))"
   ]
  },
  {
   "cell_type": "code",
   "execution_count": 58,
   "metadata": {},
   "outputs": [
    {
     "data": {
      "application/vnd.jupyter.widget-view+json": {
       "model_id": "bfb893d5dee144af9592bbdf0ba65c96",
       "version_major": 2,
       "version_minor": 0
      },
      "text/plain": [
       "Canvas(toolbar=Toolbar(toolitems=[('Home', 'Reset original view', 'home', 'home'), ('Back', 'Back to previous …"
      ]
     },
     "metadata": {},
     "output_type": "display_data"
    },
    {
     "data": {
      "text/plain": [
       "(415.888615, 818.418, -1.0, 1.0)"
      ]
     },
     "execution_count": 58,
     "metadata": {},
     "output_type": "execute_result"
    }
   ],
   "source": [
    "%matplotlib widget\n",
    "fig, (ax1, ax2) = plt.subplots(1, 2)\n",
    "\n",
    "ax1.pcolormesh(X,Y,Znewer, cmap='jet', shading='nearest')\n",
    "ax1.axis(ymin=-1,ymax=1)\n",
    "ax2.pcolormesh(A,B,C, cmap='jet', shading='nearest')\n",
    "ax2.axis(ymin=-1,ymax=1)"
   ]
  },
  {
   "cell_type": "code",
   "execution_count": 38,
   "metadata": {},
   "outputs": [
    {
     "data": {
      "application/vnd.jupyter.widget-view+json": {
       "model_id": "b852e4ca424d49ecaeef189ca04d5e4a",
       "version_major": 2,
       "version_minor": 0
      },
      "text/plain": [
       "Canvas(toolbar=Toolbar(toolitems=[('Home', 'Reset original view', 'home', 'home'), ('Back', 'Back to previous …"
      ]
     },
     "metadata": {},
     "output_type": "display_data"
    },
    {
     "data": {
      "text/plain": [
       "<matplotlib.colorbar.Colorbar at 0x12c463b90>"
      ]
     },
     "execution_count": 38,
     "metadata": {},
     "output_type": "execute_result"
    }
   ],
   "source": [
    "#thing to check how different i am from the properly fixed one\n",
    "%matplotlib widget\n",
    "\n",
    "D=Znew[:453,8:344]-C #datasets are different sizes, this centers them\n",
    "for wl in range(0,np.shape(C)[1]): \n",
    "    for t in range(0,np.shape(C)[0]):\n",
    "        D[t,wl]=D[t,wl]-C[t,wl]\n",
    "\n",
    "plt.pcolormesh(X[:336],Y[:453],D, cmap='jet', shading='nearest')\n",
    "plt.ylim(0,10)\n",
    "plt.colorbar()\n"
   ]
  },
  {
   "cell_type": "code",
   "execution_count": 11,
   "metadata": {
    "scrolled": true
   },
   "outputs": [
    {
     "data": {
      "application/vnd.jupyter.widget-view+json": {
       "model_id": "8441433972e0447492a9832686a278af",
       "version_major": 2,
       "version_minor": 0
      },
      "text/plain": [
       "Canvas(toolbar=Toolbar(toolitems=[('Home', 'Reset original view', 'home', 'home'), ('Back', 'Back to previous …"
      ]
     },
     "metadata": {},
     "output_type": "display_data"
    },
    {
     "data": {
      "application/vnd.jupyter.widget-view+json": {
       "model_id": "30a2171867e3404ba9dc4c6b4d83dc7c",
       "version_major": 2,
       "version_minor": 0
      },
      "text/plain": [
       "interactive(children=(IntSlider(value=1246, description='t', max=2500, min=-5, step=3), Output()), _dom_classe…"
      ]
     },
     "metadata": {},
     "output_type": "display_data"
    },
    {
     "data": {
      "text/plain": [
       "<function __main__.slider(t)>"
      ]
     },
     "execution_count": 11,
     "metadata": {},
     "output_type": "execute_result"
    }
   ],
   "source": [
    "%matplotlib widget\n",
    "fig, ax = plt.subplots()\n",
    "\n",
    "\n",
    "def slider(t):\n",
    "    #finds closest index to that t\n",
    "    i = np.searchsorted(Y, t)\n",
    "    #get horizontal slice\n",
    "    slice1=Z[i,:]\n",
    "    [l.remove() for l in ax.lines]\n",
    "    ax.plot(X,slice1,color=\"black\")\n",
    "   \n",
    "    \n",
    "widgets.interact(slider, t=(-5,2500,3))\n"
   ]
  },
  {
   "cell_type": "code",
   "execution_count": 12,
   "metadata": {},
   "outputs": [
    {
     "data": {
      "application/vnd.jupyter.widget-view+json": {
       "model_id": "0d8f796687984cb496ec505c74b1140b",
       "version_major": 2,
       "version_minor": 0
      },
      "text/plain": [
       "Canvas(toolbar=Toolbar(toolitems=[('Home', 'Reset original view', 'home', 'home'), ('Back', 'Back to previous …"
      ]
     },
     "metadata": {},
     "output_type": "display_data"
    },
    {
     "data": {
      "application/vnd.jupyter.widget-view+json": {
       "model_id": "ddc7f193518641318330533a2b166925",
       "version_major": 2,
       "version_minor": 0
      },
      "text/plain": [
       "interactive(children=(IntSlider(value=550, description='wl', max=700, min=400, step=3), Output()), _dom_classe…"
      ]
     },
     "metadata": {},
     "output_type": "display_data"
    },
    {
     "data": {
      "text/plain": [
       "<function __main__.slider(wl)>"
      ]
     },
     "execution_count": 12,
     "metadata": {},
     "output_type": "execute_result"
    }
   ],
   "source": [
    "#VERTICAL SLICE----------\n",
    "%matplotlib widget\n",
    "fig, ax = plt.subplots()\n",
    "\n",
    "\n",
    "def slider(wl):\n",
    "    #finds closest index to that wl\n",
    "    i = np.searchsorted(X, wl)\n",
    "    print(i)\n",
    "    slice2=Z[:,i];\n",
    "    [l.remove() for l in ax.lines]\n",
    "    ax.plot(Y,slice2,color=\"black\")\n",
    "\n",
    "#Slider used to select wavelength\n",
    "widgets.interact(slider, wl=(400,700,3))"
   ]
  },
  {
   "cell_type": "code",
   "execution_count": null,
   "metadata": {},
   "outputs": [],
   "source": [
    "#error function....\n",
    "#define parameters of the chunk of plot we r looking at\n",
    "#loop through all vertical slices and do the error function thing\n",
    "#use those points as the curve\n",
    "#stretch/interpolate\n",
    "start=np.searchsorted(Y, 0.6)\n",
    "end=np.searchsorted(Y, -0.6)\n",
    "wl=np.searchsorted(X, 528)\n",
    "error=erf(Z[start:end,wl])\n",
    "print(error)\n"
   ]
  },
  {
   "cell_type": "code",
   "execution_count": 80,
   "metadata": {},
   "outputs": [
    {
     "data": {
      "text/plain": [
       "0.0"
      ]
     },
     "execution_count": 80,
     "metadata": {},
     "output_type": "execute_result"
    }
   ],
   "source": [
    "np.float128(1) + np.float128(2**-64) - np.float128(1)\n",
    "#an answer of 0.0 indicates that the float128 type contains no more than 64 bits of precision"
   ]
  },
  {
   "cell_type": "code",
   "execution_count": 22,
   "metadata": {},
   "outputs": [
    {
     "data": {
      "application/vnd.jupyter.widget-view+json": {
       "model_id": "203f545b7a4949668ae37b64f314ee7a",
       "version_major": 2,
       "version_minor": 0
      },
      "text/plain": [
       "Canvas(toolbar=Toolbar(toolitems=[('Home', 'Reset original view', 'home', 'home'), ('Back', 'Back to previous …"
      ]
     },
     "metadata": {},
     "output_type": "display_data"
    },
    {
     "data": {
      "text/plain": [
       "[<matplotlib.lines.Line2D at 0x120ca7cd0>]"
      ]
     },
     "execution_count": 22,
     "metadata": {},
     "output_type": "execute_result"
    }
   ],
   "source": [
    "#Finds Gaussian convoluted with 3 exponentials at this wavelength\n",
    "%matplotlib widget\n",
    "plt.plot(Y,Z[:,248]) #blue wl=700\n",
    "plt.plot(Ybig,Zbig) #orange\n",
    "ExpGauss2=curve1(Ybig,params[0],params[1],params[2],params[3],params[4],params[5],params[6],params[7],params[8])#,params[9],params[10],params[11],params[12])\n",
    "plt.plot(Ybig,ExpGauss2)#green\n",
    "delta2=Zbig-ExpGauss2\n",
    "plt.plot(Ybig,delta2)#red\n",
    "#[-3.36189614e-05  1.97442342e+00 -5.70929342e+03  1.00000217e+00\n",
    "# 1.52916609e+03  1.00000220e+00  1.49084208e+03  1.00000168e+00\n",
    "#  1.46483839e+03]"
   ]
  },
  {
   "cell_type": "code",
   "execution_count": 81,
   "metadata": {},
   "outputs": [],
   "source": [
    "#saves everything\n",
    "fixeddata =np.insert(Znew,0,Y, axis=1)\n",
    "Xx= np.insert(X,0,0,axis=0)\n",
    "Fixeddata= np.insert(fixeddata,0,Xx,axis=0)\n",
    "np.savetxt(justdata, Fixeddata, delimiter=\",\")"
   ]
  }
 ],
 "metadata": {
  "celltoolbar": "Tags",
  "kernelspec": {
   "display_name": "Python 3",
   "language": "python",
   "name": "python3"
  },
  "language_info": {
   "codemirror_mode": {
    "name": "ipython",
    "version": 3
   },
   "file_extension": ".py",
   "mimetype": "text/x-python",
   "name": "python",
   "nbconvert_exporter": "python",
   "pygments_lexer": "ipython3",
   "version": "3.7.5"
  }
 },
 "nbformat": 4,
 "nbformat_minor": 4
}
