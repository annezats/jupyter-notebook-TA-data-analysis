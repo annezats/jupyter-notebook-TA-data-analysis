{
 "cells": [
  {
   "cell_type": "code",
   "execution_count": 90,
   "metadata": {},
   "outputs": [],
   "source": [
    "import numpy as np\n",
    "import matplotlib.pyplot as plt\n",
    "from scipy.special import erf\n",
    "from scipy.interpolate import interp1d\n",
    "from scipy.optimize import curve_fit\n",
    "import matplotlib.lines as mlines\n",
    "import ipywidgets as widgets\n",
    "from ipywidgets import Layout\n",
    "from math import exp\n",
    "e=2.718281828"
   ]
  },
  {
   "cell_type": "code",
   "execution_count": 91,
   "metadata": {},
   "outputs": [
    {
     "name": "stdout",
     "output_type": "stream",
     "text": [
      "\n",
      "Date: March 16, 2015\n",
      "Sample: NODIPS-22BP-Chloroform\n",
      "Solvent: THF\n",
      "Pump energy (uJ): 200 uW\n",
      "Pump wavelength (nm): 600\n",
      "Cuvette length (mm): 2\n",
      "Comments: Time Zero: 505.800 ps\n",
      "Averaging time: 2.0 s\n",
      "Number of scans: 2\n",
      "Measurement time: 00:37:49\n",
      "\n",
      "Time units: ps\n",
      "Z axis title: dA\n"
     ]
    }
   ],
   "source": [
    "filename=\"22BPNODIPS chloroform 600 200mW PTA fixed.csv\"#22BPNODIPS chloroform 600 200mW PTA fixed.csv\n",
    "rawdata = open(filename)\n",
    "\n",
    "#step 1: split the data from the info at the end\n",
    "#making it into new files: optional, can stick them into variables instead\n",
    "fileinfo=filename[0:-4]+\"-info\"+\".csv\"\n",
    "fileinfofile= open(fileinfo, \"w\") #'w' makes it write only so deletes prev version of it\n",
    "justdata=filename[0:-4]+\"-data\"+\".csv\"\n",
    "justdatafile=open(justdata, \"w\")\n",
    "\n",
    "for line in rawdata:\n",
    "    if len(line)<100: #if it is not data but text\n",
    "        fileinfofile.write(line) \n",
    "    #step 2: remove the NaNs at the begining\n",
    "    else: \n",
    "        nan=False\n",
    "        for char in line:\n",
    "            if char == 'N':\n",
    "                nan=True\n",
    "                break\n",
    "        if nan:\n",
    "            continue\n",
    "        else:\n",
    "            justdatafile.write(line)\n",
    "fileinfofile.close() #its good practice to close files :)\n",
    "rawdata.close()\n",
    "justdatafile.close()\n",
    "print((open(fileinfo)).read())"
   ]
  },
  {
   "cell_type": "code",
   "execution_count": 92,
   "metadata": {},
   "outputs": [
    {
     "name": "stdout",
     "output_type": "stream",
     "text": [
      "(456, 454)\n",
      "(453,)\n",
      "(455,)\n",
      "(455, 453)\n"
     ]
    }
   ],
   "source": [
    "dataarray = (np.genfromtxt(justdata, delimiter=\",\",  filling_values=0)).T\n",
    "print(np.shape(dataarray))\n",
    "X=dataarray[0,1:].T #works\n",
    "Y=dataarray[1:,0]\n",
    "Z=dataarray[1:,1:]\n",
    "print(np.shape(X))\n",
    "print(np.shape(Y))\n",
    "print(np.shape(Z))"
   ]
  },
  {
   "cell_type": "code",
   "execution_count": 93,
   "metadata": {},
   "outputs": [],
   "source": [
    "#step 3: remove the noise at the begining and end\n",
    "#read the begining, check if its noise, remove it\n",
    "#same thing from the end\n",
    "\n",
    "listofR=[]\n",
    "#print((np.shape(X)))\n",
    "coef=0.4 #for first dataset it was 0.4 THIS NEEDS ADJUSTING\n",
    "for col in range((np.shape(X))[0]):\n",
    "    slice2=Z[:,col]\n",
    "    R=abs(np.corrcoef(Y,slice2))[0,1]\n",
    "    listofR.append(R)\n",
    "    #print(R)\n",
    "i=0\n",
    "while listofR[i]<coef: #find uncorrelated data in the beginning \n",
    "    Z=np.delete(Z,0,1) #remove that row from Z\n",
    "    X=np.delete(X,0,0) #remove the wavelength too\n",
    "    i=i+1\n",
    "i=(np.shape(X))[0]-1#same thing but from the end\n",
    "while listofR[i]<coef:\n",
    "    Z=np.delete(Z,-1,1)\n",
    "    X=np.delete(X,-1,0)\n",
    "    i=i-1\n"
   ]
  },
  {
   "cell_type": "code",
   "execution_count": 94,
   "metadata": {},
   "outputs": [
    {
     "name": "stdout",
     "output_type": "stream",
     "text": [
      "600\n"
     ]
    }
   ],
   "source": [
    "#step 4: remove the laser\n",
    "#add a manual option\n",
    "fileinforead=open(fileinfo)\n",
    "pumpwl=0\n",
    "for line in fileinforead:\n",
    "    if line[0:15]=='Pump wavelength':\n",
    "        pumpwl= int(line[-4:-1])\n",
    "        print(pumpwl)\n",
    "if pumpwl!=0:\n",
    "    starti = np.searchsorted(X, (pumpwl - 20))#this can be adjusted\n",
    "    endi = np.searchsorted(X, (pumpwl + 20))\n",
    "    Z[:,starti:endi]=0\n",
    "if pumpwl==0:\n",
    "    print(\"did not find data\")"
   ]
  },
  {
   "cell_type": "code",
   "execution_count": 95,
   "metadata": {
    "scrolled": true
   },
   "outputs": [
    {
     "data": {
      "application/vnd.jupyter.widget-view+json": {
       "model_id": "1ca210e33fda48e596404231ac94029d",
       "version_major": 2,
       "version_minor": 0
      },
      "text/plain": [
       "Canvas(toolbar=Toolbar(toolitems=[('Home', 'Reset original view', 'home', 'home'), ('Back', 'Back to previous …"
      ]
     },
     "metadata": {},
     "output_type": "display_data"
    }
   ],
   "source": [
    "%matplotlib widget\n",
    "plt.pcolormesh(X,Y,Z, cmap='jet', shading='nearest')\n",
    "#shading='nearest' makes the pixels centered on the coordinates\n",
    "#plt.yscale('log')\n",
    "\n",
    "plt.ylabel('Time(ps)')\n",
    "plt.xlabel('Wavelength(nm)')\n",
    "\n",
    "plt.savefig(\"mygraph.png\")"
   ]
  },
  {
   "cell_type": "code",
   "execution_count": 277,
   "metadata": {},
   "outputs": [
    {
     "name": "stdout",
     "output_type": "stream",
     "text": [
      "how many points do you want the curve to be based on? 10\n",
      "[37, 56, 90, 144, 183, 196, 234, 259, 297, 365]\n"
     ]
    }
   ],
   "source": [
    "#finds the important wavelengths for the gaussian\n",
    "#n=10\n",
    "n=int(input(\"how many points do you want the curve to be based on? \"))\n",
    "\n",
    "maxZ=np.amax(Z)\n",
    "fiveper = maxZ*0.05\n",
    "x=[0]#array of indices of even chunks\n",
    "maxes=[] #temporary array of max values of each wl in the chunk\n",
    "c=(X[-1]-X[0])/n #how big the increments are\n",
    "\n",
    "xmaxes=[]#array of wls for which to base gaussian\n",
    "for i in range(1,n+1):\n",
    "    x.append(np.searchsorted(X,(X[0]+i*c))) #end index\n",
    "    \n",
    "    for wl in range(x[i-1],x[i]):\n",
    "        maxes.append(np.amax(Z[:,wl]))#finds max of each of 50 wls, appends to maxes[]\n",
    "    if np.amax(maxes)< fiveper:\n",
    "        maxes=[] #need to clear maxes\n",
    "        continue\n",
    "    else:\n",
    "        wl= maxes.index(np.amax(maxes))+x[i-1] #finds index of max(maxes), adds to start of chunk\n",
    "        xmaxes.append(wl)\n",
    "    maxes=[] #need to clear maxes \n",
    "print(xmaxes)\n"
   ]
  },
  {
   "cell_type": "code",
   "execution_count": 295,
   "metadata": {
    "scrolled": true
   },
   "outputs": [
    {
     "name": "stderr",
     "output_type": "stream",
     "text": [
      "/Library/Frameworks/Python.framework/Versions/3.7/lib/python3.7/site-packages/ipykernel_launcher.py:4: RuntimeWarning: overflow encountered in power\n",
      "  after removing the cwd from sys.path.\n"
     ]
    },
    {
     "name": "stdout",
     "output_type": "stream",
     "text": [
      "-0.024535895119449744 450.445055785\n",
      "0.09964372553733031 472.765379125\n",
      "0.5595083667613505 512.831492525\n",
      "0.42601272710319016 576.794176085\n"
     ]
    },
    {
     "name": "stderr",
     "output_type": "stream",
     "text": [
      "/Library/Frameworks/Python.framework/Versions/3.7/lib/python3.7/site-packages/ipykernel_launcher.py:4: RuntimeWarning: invalid value encountered in multiply\n",
      "  after removing the cwd from sys.path.\n"
     ]
    },
    {
     "name": "stdout",
     "output_type": "stream",
     "text": [
      "0.5182608057500478 623.240000705\n",
      "0.5505517954445804 638.768640325\n",
      "0.5794570815229761 684.293925485\n",
      "0.6582073407273306 714.353571985\n",
      "0.7207430073349235 760.209612185\n",
      "1.1245805360542744 842.765718025\n",
      "done!\n"
     ]
    }
   ],
   "source": [
    "#gaussian\n",
    "def curve1(t, y0,pw,t0,a1,k1,a2,k2,a3,k3):#,a4,k4,a5,k5,a6,k6):\n",
    "    return y0+0.5*a1*(e**(-k1*(t-t0-(pw**2)*k1/2)))*(1+erf((t-t0-k1*(pw**2))/(1.41421356237*pw)))+0.5*(a2*e**(-k2*(t-t0-(pw**2)*k2/2)))*(1+erf((t-t0-k2*(pw**2))/(1.41421356237*pw)))+0.5*(a3*e**(-k3*(t-t0-(pw**2)*k3/2)))*(1+erf((t-t0-k3*(pw**2))/(1.41421356237*pw)))#+0.5*a4*(e**(-k4*(t-t0-(pw**2)*k4/2)))*(1+erf((t-t0-k4*(pw**2))/(1.41421356237*pw)))#+0.5*a5*(e**(-k5*(t-t0-(pw**2)*k5/2)))*(1+erf((t-t0-k5*(pw**2))/(1.41421356237*pw)))#+0.5*pow(a6,(-k6*(t-t0-pow(pw,2)*k6/2)))*(1+erf((t-t0-k6*pow(pw,2))/(1.41421356237*pw)))\n",
    "\n",
    "def findT0(wl,Y,Z,guess):\n",
    "    #the indices around the pump wavelength that are all 0\n",
    "    if starti<=wl<=endi: \n",
    "        return 0\n",
    "    #the actual curve fitting\n",
    "    params, pc = curve_fit(curve1, Y,Z,maxfev=100000, p0=[1e-6,0.1,guess,1e-3,1,1e-3,1e-2,1e-3,1e-3])\n",
    "    return params[2]\n",
    "\n",
    "T0=[-0.6]\n",
    "for wl in  range(0,np.shape(X)[0]): #xmaxes:#\n",
    "    #interpolate the vertical slice over more data points\n",
    "    f=interp1d(Y,Z[:,wl], kind=\"linear\", fill_value=\"extrapolate\")   \n",
    "    Ybig=np.linspace(-100,2600,20000) #start,end,num of points\n",
    "    Zbig=f(Ybig)\n",
    "    \n",
    "    T0.append(findT0(wl,Y,Z[:,wl],T0[-1])) \n",
    "    print(T0[-1],X[wl])\n",
    "print(\"done!\")"
   ]
  },
  {
   "cell_type": "code",
   "execution_count": 297,
   "metadata": {
    "scrolled": true
   },
   "outputs": [
    {
     "name": "stdout",
     "output_type": "stream",
     "text": [
      "[ 8.09849891e-08 -1.57748040e-04  1.02371884e-01 -2.15575478e+01]\n"
     ]
    },
    {
     "data": {
      "application/vnd.jupyter.widget-view+json": {
       "model_id": "9c551ee78b0c41e78cfe3b92eae197e5",
       "version_major": 2,
       "version_minor": 0
      },
      "text/plain": [
       "Canvas(toolbar=Toolbar(toolitems=[('Home', 'Reset original view', 'home', 'home'), ('Back', 'Back to previous …"
      ]
     },
     "metadata": {},
     "output_type": "display_data"
    },
    {
     "data": {
      "text/plain": [
       "(-1.0, 1.0)"
      ]
     },
     "execution_count": 297,
     "metadata": {},
     "output_type": "execute_result"
    }
   ],
   "source": [
    "%matplotlib widget\n",
    "#interpolates your points to a curve \n",
    "maxwls=[407]\n",
    "for i in xmaxes: #converts list of indices to list of wls\n",
    "    maxwls.append(X[i])\n",
    "    \n",
    "#curve_fit need a function.\n",
    "def chirp_curve(maxwls, a, b, c,d):\n",
    "    return a*pow(maxwls,3)+b*pow(maxwls,2)+c*maxwls+d\n",
    "\n",
    "params, pc = curve_fit(chirp_curve, maxwls, T0, maxfev=6000)\n",
    "print(params)\n",
    "t0=chirp_curve(X, params[0], params[1], params[2],params[3])\n",
    "\n",
    "plt.pcolormesh(X,Y,Z, cmap='jet', shading='nearest')\n",
    "plt.plot(maxwls,T0)\n",
    "plt.plot(X,t0, color=\"white\")\n",
    "plt.ylim(-1,1)\n",
    "#plt.colorbar()"
   ]
  },
  {
   "cell_type": "code",
   "execution_count": 272,
   "metadata": {},
   "outputs": [],
   "source": [
    "#CHIRP CORRECTOR-------\n",
    "it0=[]\n",
    "for wl in range(0,np.shape(X)[0]):\n",
    "    it0.append(np.searchsorted(Y,t0[wl]))#gets the index of that wl's t0\n",
    "    \n",
    "#T0=float(y[0])#-0.6\n",
    "iT0=np.searchsorted(Y,T0[0]) #index of first time zero\n",
    "Znew=Z.copy()\n",
    "Ynew=Y.copy()\n",
    "for wl in range(0,np.shape(X)[0]):\n",
    "    shift=0-t0[wl] #note, not all data is around zero, might have to change\n",
    "    for t in range(iT0,np.shape(Y)[0]-1):#start changing from main T0\n",
    "        Ynew[t]=Y[t]+shift\n",
    "        Znew[t,wl]=Z[t,wl]\n",
    "    f=interp1d(Ynew,Znew[:,wl], kind=\"linear\", fill_value=\"extrapolate\")       \n",
    "    Znew[:,wl]=f(Y)"
   ]
  },
  {
   "cell_type": "code",
   "execution_count": 88,
   "metadata": {},
   "outputs": [
    {
     "name": "stdout",
     "output_type": "stream",
     "text": [
      "done!\n"
     ]
    }
   ],
   "source": [
    "#also dont think i need this\n",
    "#CHIRP CORRECTOR 2.0??-------\n",
    "Znewer=Z.copy()\n",
    "Ynewer=Y.copy()\n",
    "\n",
    "for wl in range(0,np.shape(X)[0]):\n",
    "    shift=0-T[wl] #note, not all data is around zero, might have to change\n",
    "    for t in range(0,np.shape(Y)[0]-1):#start changing from main T0\n",
    "        Ynewer[t]=Y[t]+shift\n",
    "        Znewer[t,wl]=Z[t,wl]\n",
    "    f=interp1d(Ynewer,Znewer[:,wl], kind=\"linear\", fill_value=\"extrapolate\")       \n",
    "    Znewer[:,wl]=f(Y)\n",
    "print('done!')"
   ]
  },
  {
   "cell_type": "code",
   "execution_count": 273,
   "metadata": {
    "scrolled": true
   },
   "outputs": [
    {
     "data": {
      "application/vnd.jupyter.widget-view+json": {
       "model_id": "de980b7e458741418d413eaaabe571db",
       "version_major": 2,
       "version_minor": 0
      },
      "text/plain": [
       "Canvas(toolbar=Toolbar(toolitems=[('Home', 'Reset original view', 'home', 'home'), ('Back', 'Back to previous …"
      ]
     },
     "metadata": {},
     "output_type": "display_data"
    },
    {
     "data": {
      "text/plain": [
       "(406.53809747500003, 844.593958375, -1.0, 1.0)"
      ]
     },
     "execution_count": 273,
     "metadata": {},
     "output_type": "execute_result"
    }
   ],
   "source": [
    "%matplotlib widget\n",
    "fig, (ax1, ax2) = plt.subplots(1, 2)\n",
    "\n",
    "ax1.pcolormesh(X,Y,Z, cmap='jet', shading='nearest') #before\n",
    "ax1.axis(ymin=-1,ymax=1)\n",
    "ax2.pcolormesh(X,Y,Znew, cmap='jet', shading='nearest')#manual curve\n",
    "ax2.axis(ymin=-1,ymax=1)\n",
    "\n"
   ]
  },
  {
   "cell_type": "code",
   "execution_count": 56,
   "metadata": {
    "tags": [
     "hide"
    ]
   },
   "outputs": [
    {
     "name": "stdout",
     "output_type": "stream",
     "text": [
      "Pump Wavelength (nm): 605Pump Wavelength (nm): 605\n",
      "(454, 337)\n"
     ]
    }
   ],
   "source": [
    "filename=\"testdata.csv\"#22BPNODIPS chloroform 600 200mW PTA fixed.csv\n",
    "rawdata = open(filename)\n",
    "\n",
    "#step 1: split the data from the info at the end\n",
    "#making it into new files: optional, can stick them into variables instead\n",
    "fileinfo=filename[0:-4]+\"-info\"+\".csv\"\n",
    "fileinfofile= open(fileinfo, \"w\") #'w' makes it write only so deletes prev version of it\n",
    "justdata=filename[0:-4]+\"-data\"+\".csv\"\n",
    "justdatafile=open(justdata, \"w\")\n",
    "\n",
    "for line in rawdata:\n",
    "    if len(line)<100: #if it is not data but text\n",
    "        fileinfofile.write(line) \n",
    "    #step 2: remove the NaNs at the begining\n",
    "    else: \n",
    "        nan=False\n",
    "        for char in line:\n",
    "            if char == 'N':\n",
    "                nan=True\n",
    "                break\n",
    "        if nan:\n",
    "            continue\n",
    "        else:\n",
    "            justdatafile.write(line)\n",
    "fileinfofile.close() #its good practice to close files :)\n",
    "rawdata.close()\n",
    "justdatafile.close()\n",
    "print((open(fileinfo)).read())\n",
    "dataarray1 = (np.genfromtxt(justdata, delimiter=\",\",  filling_values=0)).T\n",
    "print(np.shape(dataarray1))\n",
    "A=dataarray1[0,1:].T #works\n",
    "B=dataarray1[1:,0]\n",
    "C=dataarray1[1:,1:]\n"
   ]
  },
  {
   "cell_type": "code",
   "execution_count": 15,
   "metadata": {},
   "outputs": [
    {
     "name": "stdout",
     "output_type": "stream",
     "text": [
      "(455, 367)\n"
     ]
    }
   ],
   "source": [
    "print(np.shape(Znew))"
   ]
  },
  {
   "cell_type": "code",
   "execution_count": 62,
   "metadata": {
    "scrolled": true
   },
   "outputs": [
    {
     "data": {
      "application/vnd.jupyter.widget-view+json": {
       "model_id": "5bb37335cfbf4b9ea279ba180b20277b",
       "version_major": 2,
       "version_minor": 0
      },
      "text/plain": [
       "Canvas(toolbar=Toolbar(toolitems=[('Home', 'Reset original view', 'home', 'home'), ('Back', 'Back to previous …"
      ]
     },
     "metadata": {},
     "output_type": "display_data"
    },
    {
     "data": {
      "text/plain": [
       "(415.888615, 818.418, -1.0, 1.0)"
      ]
     },
     "execution_count": 62,
     "metadata": {},
     "output_type": "execute_result"
    }
   ],
   "source": [
    "%matplotlib widget\n",
    "fig, (ax1, ax2) = plt.subplots(1, 2)\n",
    "\n",
    "ax1.pcolormesh(X,Y,Znew, cmap='jet', shading='nearest')\n",
    "ax1.axis(ymin=-1,ymax=1)\n",
    "ax2.pcolormesh(A,B,C, cmap='jet', shading='nearest')\n",
    "ax2.axis(ymin=-1,ymax=1)"
   ]
  },
  {
   "cell_type": "code",
   "execution_count": 38,
   "metadata": {},
   "outputs": [
    {
     "data": {
      "application/vnd.jupyter.widget-view+json": {
       "model_id": "b852e4ca424d49ecaeef189ca04d5e4a",
       "version_major": 2,
       "version_minor": 0
      },
      "text/plain": [
       "Canvas(toolbar=Toolbar(toolitems=[('Home', 'Reset original view', 'home', 'home'), ('Back', 'Back to previous …"
      ]
     },
     "metadata": {},
     "output_type": "display_data"
    },
    {
     "data": {
      "text/plain": [
       "<matplotlib.colorbar.Colorbar at 0x12c463b90>"
      ]
     },
     "execution_count": 38,
     "metadata": {},
     "output_type": "execute_result"
    }
   ],
   "source": [
    "#thing to check how different i am from the properly fixed one\n",
    "%matplotlib widget\n",
    "\n",
    "D=Znew[:453,8:344]-C #datasets are different sizes, this centers them\n",
    "for wl in range(0,np.shape(C)[1]): \n",
    "    for t in range(0,np.shape(C)[0]):\n",
    "        D[t,wl]=D[t,wl]-C[t,wl]\n",
    "\n",
    "plt.pcolormesh(X[:336],Y[:453],D, cmap='jet', shading='nearest')\n",
    "plt.ylim(0,10)\n",
    "plt.colorbar()\n"
   ]
  },
  {
   "cell_type": "code",
   "execution_count": 11,
   "metadata": {
    "scrolled": true
   },
   "outputs": [
    {
     "data": {
      "application/vnd.jupyter.widget-view+json": {
       "model_id": "8441433972e0447492a9832686a278af",
       "version_major": 2,
       "version_minor": 0
      },
      "text/plain": [
       "Canvas(toolbar=Toolbar(toolitems=[('Home', 'Reset original view', 'home', 'home'), ('Back', 'Back to previous …"
      ]
     },
     "metadata": {},
     "output_type": "display_data"
    },
    {
     "data": {
      "application/vnd.jupyter.widget-view+json": {
       "model_id": "30a2171867e3404ba9dc4c6b4d83dc7c",
       "version_major": 2,
       "version_minor": 0
      },
      "text/plain": [
       "interactive(children=(IntSlider(value=1246, description='t', max=2500, min=-5, step=3), Output()), _dom_classe…"
      ]
     },
     "metadata": {},
     "output_type": "display_data"
    },
    {
     "data": {
      "text/plain": [
       "<function __main__.slider(t)>"
      ]
     },
     "execution_count": 11,
     "metadata": {},
     "output_type": "execute_result"
    }
   ],
   "source": [
    "%matplotlib widget\n",
    "fig, ax = plt.subplots()\n",
    "\n",
    "\n",
    "def slider(t):\n",
    "    #finds closest index to that t\n",
    "    i = np.searchsorted(Y, t)\n",
    "    #get horizontal slice\n",
    "    slice1=Z[i,:]\n",
    "    [l.remove() for l in ax.lines]\n",
    "    ax.plot(X,slice1,color=\"black\")\n",
    "   \n",
    "    \n",
    "widgets.interact(slider, t=(-5,2500,3))\n"
   ]
  },
  {
   "cell_type": "code",
   "execution_count": 233,
   "metadata": {},
   "outputs": [
    {
     "data": {
      "application/vnd.jupyter.widget-view+json": {
       "model_id": "190ee1b0440a483c9a41128a7677db60",
       "version_major": 2,
       "version_minor": 0
      },
      "text/plain": [
       "Canvas(toolbar=Toolbar(toolitems=[('Home', 'Reset original view', 'home', 'home'), ('Back', 'Back to previous …"
      ]
     },
     "metadata": {},
     "output_type": "display_data"
    },
    {
     "data": {
      "application/vnd.jupyter.widget-view+json": {
       "model_id": "c86e741cf23748d288c70b2f403058f3",
       "version_major": 2,
       "version_minor": 0
      },
      "text/plain": [
       "interactive(children=(IntSlider(value=550, description='wl', max=700, min=400, step=3), Output()), _dom_classe…"
      ]
     },
     "metadata": {},
     "output_type": "display_data"
    },
    {
     "data": {
      "text/plain": [
       "<function __main__.slider(wl)>"
      ]
     },
     "execution_count": 233,
     "metadata": {},
     "output_type": "execute_result"
    }
   ],
   "source": [
    "#VERTICAL SLICE----------\n",
    "%matplotlib widget\n",
    "fig, ax = plt.subplots()\n",
    "\n",
    "\n",
    "def slider(wl):\n",
    "    #finds closest index to that wl\n",
    "    i = np.searchsorted(X, wl)\n",
    "    print(i)\n",
    "    slice2=Z[:,i];\n",
    "    [l.remove() for l in ax.lines]\n",
    "    ax.plot(Y,slice2,color=\"black\")\n",
    "\n",
    "#Slider used to select wavelength\n",
    "widgets.interact(slider, wl=(400,700,3))"
   ]
  },
  {
   "cell_type": "code",
   "execution_count": null,
   "metadata": {},
   "outputs": [],
   "source": [
    "#error function....\n",
    "#define parameters of the chunk of plot we r looking at\n",
    "#loop through all vertical slices and do the error function thing\n",
    "#use those points as the curve\n",
    "#stretch/interpolate\n",
    "start=np.searchsorted(Y, 0.6)\n",
    "end=np.searchsorted(Y, -0.6)\n",
    "wl=np.searchsorted(X, 528)\n",
    "error=erf(Z[start:end,wl])\n",
    "print(error)\n"
   ]
  },
  {
   "cell_type": "code",
   "execution_count": 80,
   "metadata": {},
   "outputs": [
    {
     "data": {
      "text/plain": [
       "0.0"
      ]
     },
     "execution_count": 80,
     "metadata": {},
     "output_type": "execute_result"
    }
   ],
   "source": [
    "np.float128(1) + np.float128(2**-64) - np.float128(1)\n",
    "#an answer of 0.0 indicates that the float128 type contains no more than 64 bits of precision"
   ]
  },
  {
   "cell_type": "code",
   "execution_count": 22,
   "metadata": {},
   "outputs": [
    {
     "data": {
      "application/vnd.jupyter.widget-view+json": {
       "model_id": "203f545b7a4949668ae37b64f314ee7a",
       "version_major": 2,
       "version_minor": 0
      },
      "text/plain": [
       "Canvas(toolbar=Toolbar(toolitems=[('Home', 'Reset original view', 'home', 'home'), ('Back', 'Back to previous …"
      ]
     },
     "metadata": {},
     "output_type": "display_data"
    },
    {
     "data": {
      "text/plain": [
       "[<matplotlib.lines.Line2D at 0x120ca7cd0>]"
      ]
     },
     "execution_count": 22,
     "metadata": {},
     "output_type": "execute_result"
    }
   ],
   "source": [
    "#Finds Gaussian convoluted with 3 exponentials at this wavelength\n",
    "%matplotlib widget\n",
    "plt.plot(Y,Z[:,248]) #blue wl=700\n",
    "plt.plot(Ybig,Zbig) #orange\n",
    "ExpGauss2=curve1(Ybig,params[0],params[1],params[2],params[3],params[4],params[5],params[6],params[7],params[8])#,params[9],params[10],params[11],params[12])\n",
    "plt.plot(Ybig,ExpGauss2)#green\n",
    "delta2=Zbig-ExpGauss2\n",
    "plt.plot(Ybig,delta2)#red\n",
    "#[-3.36189614e-05  1.97442342e+00 -5.70929342e+03  1.00000217e+00\n",
    "# 1.52916609e+03  1.00000220e+00  1.49084208e+03  1.00000168e+00\n",
    "#  1.46483839e+03]"
   ]
  },
  {
   "cell_type": "code",
   "execution_count": null,
   "metadata": {},
   "outputs": [
    {
     "name": "stdout",
     "output_type": "stream",
     "text": [
      "Y value for wavelength 400:-0.65\n",
      "Y value for wavelength 450:-0.2\n"
     ]
    }
   ],
   "source": [
    "#DONT need this :)\n",
    "#making the curve \n",
    "x=[]\n",
    "y=[]\n",
    "for i in range(0,10):\n",
    "    x.append(400+i*50)    \n",
    "    y.append(input(\"Y value for wavelength \"+str(x[i])+\":\"))\n",
    "#x=[400,450,500,550,600,650,700,750,800,850]\n",
    "#y=['-0.65', '-0.2', '0.1', '0.25', '0.45', '0.5', '0.55', '0.6', '0.6',\"0.65\"]\n"
   ]
  },
  {
   "cell_type": "code",
   "execution_count": 81,
   "metadata": {},
   "outputs": [],
   "source": [
    "#saves everything\n",
    "fixeddata =np.insert(Znew,0,Y, axis=1)\n",
    "Xx= np.insert(X,0,0,axis=0)\n",
    "Fixeddata= np.insert(fixeddata,0,Xx,axis=0)\n",
    "np.savetxt(justdata, Fixeddata, delimiter=\",\")"
   ]
  }
 ],
 "metadata": {
  "celltoolbar": "Tags",
  "kernelspec": {
   "display_name": "Python 3",
   "language": "python",
   "name": "python3"
  },
  "language_info": {
   "codemirror_mode": {
    "name": "ipython",
    "version": 3
   },
   "file_extension": ".py",
   "mimetype": "text/x-python",
   "name": "python",
   "nbconvert_exporter": "python",
   "pygments_lexer": "ipython3",
   "version": "3.7.5"
  }
 },
 "nbformat": 4,
 "nbformat_minor": 4
}
