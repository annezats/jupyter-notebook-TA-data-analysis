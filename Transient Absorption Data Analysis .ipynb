{
 "cells": [
  {
   "cell_type": "code",
   "execution_count": 2,
   "metadata": {
    "jupyter": {
     "source_hidden": true
    },
    "tags": [
     "hide_input",
     "hide"
    ]
   },
   "outputs": [],
   "source": [
    "import numpy as np\n",
    "import matplotlib.pyplot as plt\n",
    "from scipy.special import erf\n",
    "from scipy.interpolate import interp1d\n",
    "from scipy.optimize import curve_fit\n",
    "import matplotlib.lines as mlines\n",
    "import ipywidgets as widgets\n",
    "from ipywidgets import Layout, HBox, VBox\n",
    "from math import exp\n",
    "from lmfit import Model, Parameters\n",
    "import sys\n",
    "e=2.718281828"
   ]
  },
  {
   "cell_type": "markdown",
   "metadata": {},
   "source": [
    "Hello, this is explanatory text. "
   ]
  },
  {
   "cell_type": "code",
   "execution_count": 34,
   "metadata": {
    "jupyter": {
     "source_hidden": true
    },
    "tags": []
   },
   "outputs": [
    {
     "name": "stdout",
     "output_type": "stream",
     "text": [
      "\n",
      "Date: March 16, 2015\n",
      "Sample: NODIPS-22BP-Chloroform\n",
      "Solvent: THF\n",
      "Pump energy (uJ): 200 uW\n",
      "Pump wavelength (nm): 600\n",
      "Cuvette length (mm): 2\n",
      "Comments: Time Zero: 505.800 ps\n",
      "Averaging time: 2.0 s\n",
      "Number of scans: 2\n",
      "Measurement time: 00:37:49\n",
      "\n",
      "Time units: ps\n",
      "Z axis title: dA\n"
     ]
    }
   ],
   "source": [
    "#filename=input(\"Please enter your csv file name: \")\n",
    "filename=\"22BPNODIPS chloroform 600 200mW PTA fixed.csv\"#22BPNODIPS chloroform 600 200mW PTA fixed.csv\n",
    "#P-1-3A-P-ex600nm-50uW-fs.csv\n",
    "rawdata = open(filename)\n",
    "\n",
    "#step 1: split the data from the info at the end\n",
    "#making it into new files: optional, can stick them into variables instead\n",
    "fileinfo=filename[0:-4]+\"-info\"+\".csv\"\n",
    "fileinfofile= open(fileinfo, \"w\") #'w' makes it write only so deletes prev version of it\n",
    "justdata=filename[0:-4]+\"-data\"+\".csv\"\n",
    "justdatafile=open(justdata, \"w\")\n",
    "\n",
    "for line in rawdata:\n",
    "    if len(line)<100: #if it is not data but text\n",
    "        fileinfofile.write(line) \n",
    "    #step 2: remove the NaNs at the begining\n",
    "    else: \n",
    "        nan=False\n",
    "        for char in line:\n",
    "            if char == 'N':\n",
    "                nan=True\n",
    "                break\n",
    "        if nan:\n",
    "            continue\n",
    "        else:\n",
    "            justdatafile.write(line)\n",
    "fileinfofile.close() #its good practice to close files :)\n",
    "rawdata.close()\n",
    "justdatafile.close()\n",
    "print((open(fileinfo)).read())\n",
    "\n",
    "dataarray = (np.genfromtxt(justdata, delimiter=\",\",  filling_values=0)).T\n",
    "X=dataarray[0,1:].T #works\n",
    "Y=dataarray[1:,0]\n",
    "Z=dataarray[1:,1:]"
   ]
  },
  {
   "cell_type": "code",
   "execution_count": 36,
   "metadata": {
    "jupyter": {
     "source_hidden": true
    },
    "tags": []
   },
   "outputs": [
    {
     "data": {
      "application/vnd.jupyter.widget-view+json": {
       "model_id": "36a7a20dedf2437981472a573b4a6a84",
       "version_major": 2,
       "version_minor": 0
      },
      "text/plain": [
       "Tab(children=(VBox(children=(HBox(children=(Output(), IntSlider(value=0, continuous_update=False, description=…"
      ]
     },
     "metadata": {},
     "output_type": "display_data"
    }
   ],
   "source": [
    "#setup for all the widgets\n",
    "%matplotlib widget\n",
    "\n",
    "a=widgets.Checkbox(description=\"a checkbox\")\n",
    "\n",
    "#Main Plot\n",
    "plot_output=widgets.Output()\n",
    "#plot_output.append_display_data(plot_raw) #a different way of adding output\n",
    "with plot_output:\n",
    "    fig, ax = plt.subplots()\n",
    "    plt.clf() #clears previous thing\n",
    "    plt.pcolormesh(X,Y,Z, cmap='jet', shading='nearest')\n",
    "    #shading='nearest' makes the pixels centered on the coordinates\n",
    "    plt.ylabel('Time(ps)')\n",
    "    plt.xlabel('Wavelength(nm)')\n",
    "    plt.ylim(-1,1)\n",
    "\n",
    "horizontal_plot_input = widgets.IntSlider(description='Wavelength',min=380,max=910, layout=Layout(width='90%'), continuous_update=False)\n",
    "def wl_slider(wl):\n",
    "    fig, ax = plt.subplots()\n",
    "    #finds closest index to that t\n",
    "    i = np.searchsorted(X, wl)\n",
    "    #get horizontal slice\n",
    "    slice1=Z[:,i]\n",
    "    [l.remove() for l in ax.lines]\n",
    "    ax.plot(Y,slice1,color=\"black\")\n",
    "horizontal_plot_output = widgets.interactive_output(wl_slider, {'wl': horizontal_plot_input})\n",
    "\n",
    "vertical_plot_input = widgets.IntSlider(description='Time',min=-10,max=2000,orientation='vertical', layout=Layout(height='100%'), continuous_update=False)\n",
    "def t_slider(t):\n",
    "    fig, ax = plt.subplots()\n",
    "    #finds closest index to that t\n",
    "    i = np.searchsorted(Y, t)\n",
    "    #get horizontal slice\n",
    "    slice1=Z[i,:]\n",
    "    [l.remove() for l in ax.lines]\n",
    "    ax.plot(X,slice1,color=\"black\")    \n",
    "vertical_plot_output = widgets.interactive_output(t_slider, {'t': vertical_plot_input})\n",
    "\n",
    "slices= HBox([horizontal_plot_output, vertical_plot_output])\n",
    "\n",
    "\n",
    "raw_data_box = VBox([HBox([plot_output,vertical_plot_input]), horizontal_plot_input, slices])\n",
    "\n",
    "clean_data_box=raw_data_box\n",
    "#clean_data_box = VBox([reduce_noise_button, eliminate_pump_button, raw_data_box])\n",
    "SVD = a\n",
    "\n",
    "# initializing a tab\n",
    "tab = widgets.Tab()\n",
    "# setting the tab windows \n",
    "tab.children = [raw_data_box, clean_data_box, SVD]\n",
    "# changing the title of the first and second window\n",
    "tab.set_title(0, 'Raw Data')\n",
    "tab.set_title(1, 'General')\n",
    "tab.set_title(2, 'SVD')\n",
    "tab\n"
   ]
  },
  {
   "cell_type": "code",
   "execution_count": 29,
   "metadata": {
    "jupyter": {
     "source_hidden": true
    }
   },
   "outputs": [],
   "source": [
    "\n",
    "\n",
    "#step 3: remove the noise at the begining and end\n",
    "#read the begining, check if its noise, remove it\n",
    "#same thing from the end\n",
    "def remove_fringe_noise():\n",
    "    global X,Y,Z\n",
    "    listofR=[]\n",
    "    #print((np.shape(X)))\n",
    "    \n",
    "    coef=0.4 #for first dataset it was 0.4, second 0.2 THIS NEEDS ADJUSTING\n",
    "    for col in range((np.shape(X))[0]):\n",
    "        slice2=Z[:,col]\n",
    "        R=abs(np.corrcoef(Y,slice2))[0,1]\n",
    "        listofR.append(R)\n",
    "        #print(R)\n",
    "    i=0\n",
    "    while listofR[i]<coef: #find uncorrelated data in the beginning \n",
    "        Z=np.delete(Z,0,1) #remove that row from Z\n",
    "        X=np.delete(X,0,0) #remove the wavelength too\n",
    "        i=i+1\n",
    "    i=(np.shape(X))[0]-1#same thing but from the end\n",
    "    while listofR[i]<coef:\n",
    "        Z=np.delete(Z,-1,1)\n",
    "        X=np.delete(X,-1,0)\n",
    "        i=i-1\n",
    "        \n",
    "def remove_pump():\n",
    "    #step 4: remove the laser\n",
    "    #add a manual option\n",
    "    global fileinfo, X,Z\n",
    "    fileinforead=open(fileinfo)\n",
    "    pumpwl=0\n",
    "    for line in fileinforead:\n",
    "        if line[0:15]=='Pump wavelength':\n",
    "            pumpwl= int(line[-4:-1])\n",
    "            print(pumpwl)\n",
    "    if pumpwl!=0:\n",
    "        starti = np.searchsorted(X, (pumpwl - 20))#this can be adjusted\n",
    "        endi = np.searchsorted(X, (pumpwl + 20))\n",
    "        Z[:,starti:endi]=0\n",
    "    if pumpwl==0:\n",
    "        print(\"did not find data\")\n",
    "     \n",
    "def show_plot():\n",
    "    \n",
    "    global X,Y,Z\n",
    "    with output:\n",
    "        fig, ax = plt.subplots()\n",
    "        plt.clf() #clears previous thing\n",
    "        plt.pcolormesh(X,Y,Z, cmap='jet', shading='nearest')\n",
    "        #shading='nearest' makes the pixels centered on the coordinates\n",
    "        #plt.yscale('log')\n",
    "\n",
    "        plt.ylabel('Time(ps)')\n",
    "        plt.xlabel('Wavelength(nm)')\n",
    "        plt.ylim(-1,1)"
   ]
  },
  {
   "cell_type": "code",
   "execution_count": 32,
   "metadata": {},
   "outputs": [
    {
     "data": {
      "application/vnd.jupyter.widget-view+json": {
       "model_id": "31d32519605d44abb4d33b4e92d6a821",
       "version_major": 2,
       "version_minor": 0
      },
      "text/plain": [
       "VBox(children=(Output(outputs=({'output_type': 'display_data', 'data': {'text/plain': \"Canvas(toolbar=Toolbar(…"
      ]
     },
     "metadata": {},
     "output_type": "display_data"
    }
   ],
   "source": [
    "\n",
    "#reduce_noise_button = widgets.Button(description='Reduce Noise')\n",
    "#eliminate_pump_button =  widgets.Button(description='Eliminate Pump')\n",
    "#show_plot_button= widgets.Button(description='Show Plot')\n",
    "\n",
    "#reduce_noise_button.on_click(remove_fringe_noise())\n",
    "#eliminate_pump_button.on_click(remove_pump())\n",
    "#output=widgets.Output()\n",
    "#show_plot_button.on_click(show_plot())\n",
    "\n",
    "#clean_data_box = VBox([reduce_noise_button, eliminate_pump_button, show_plot_button])\n",
    "#clean_data_box\n",
    "def cleanup(Ready_to_clean, pump, noiseless_region):\n",
    "    if Ready_to_clean:\n",
    "        starti = np.searchsorted(X, pump[0])#this can be adjusted\n",
    "        endi = np.searchsorted(X, pump[1])\n",
    "        Z[:,starti:endi]=0\n",
    "\n",
    "        i=0\n",
    "        while i<np.searchsorted(X,noiseless_region[0]): #find uncorrelated data in the beginning \n",
    "            Z=np.delete(Z,0,1) #remove that row from Z\n",
    "            X=np.delete(X,0,0) #remove the wavelength too\n",
    "            i=i+1\n",
    "        i=(np.shape(X))[0]-1#same thing but from the end\n",
    "        while i>np.searchsorted(X,noiseless_region[1]):\n",
    "            Z=np.delete(Z,-1,1)\n",
    "            X=np.delete(X,-1,0)\n",
    "            i=i-1\n",
    "        show_plot()\n",
    "\n",
    "pump_range_input = widgets.IntRangeSlider(description='Pump range',min=380,max=910, layout=Layout(width='90%'))\n",
    "noise_range_input = widgets.IntRangeSlider(description='Noiseless range',min=380,max=910, layout=Layout(width='90%'))\n",
    "eliminate_button = widgets.Checkbox(description='Eliminate Pump')\n",
    "#clean_data=widgets.interact(cleanup, Ready_to_clean=False, pump= (380,910),noiseless_region= (380,910) )\n",
    "clean_data=widgets.interactive_output(cleanup, {'Ready_to_clean': eliminate_button, 'pump':pump_range_input, 'noiseless_region':noise_range_input})\n",
    "\n",
    "clean_data_box = VBox([plot_output, pump_range_input, noise_range_input, clean_data])\n",
    "clean_data_box"
   ]
  },
  {
   "cell_type": "code",
   "execution_count": null,
   "metadata": {
    "jupyter": {
     "source_hidden": true
    }
   },
   "outputs": [],
   "source": [
    "#finds the important wavelengths for the gaussian\n",
    "#n=10\n",
    "n=int(input(\"how many points do you want the curve to be based on? \"))\n",
    "\n",
    "maxZ=np.amax(Z)\n",
    "fiveper = maxZ*0.05\n",
    "x=[0]#array of indices of even chunks\n",
    "maxes=[] #temporary array of max values of each wl in the chunk\n",
    "c=(X[-1]-X[0])/n #how big the increments are\n",
    "\n",
    "xmaxes=[]#array of wls for which to base gaussian\n",
    "for i in range(1,n+1):\n",
    "    x.append(np.searchsorted(X,(X[0]+i*c))) #end index\n",
    "    \n",
    "    for wl in range(x[i-1],x[i]):\n",
    "        maxes.append(np.amax(Z[:,wl]))#finds max of each of 50 wls, appends to maxes[]\n",
    "    if np.amax(maxes)< fiveper:\n",
    "        maxes=[] #need to clear maxes\n",
    "        continue\n",
    "    else:\n",
    "        wl= maxes.index(np.amax(maxes))+x[i-1] #finds index of max(maxes), adds to start of chunk\n",
    "        xmaxes.append(wl)\n",
    "    maxes=[] #need to clear maxes \n",
    "print(xmaxes)\n"
   ]
  },
  {
   "cell_type": "code",
   "execution_count": null,
   "metadata": {
    "jupyter": {
     "source_hidden": true
    }
   },
   "outputs": [],
   "source": [
    "def curve3(t, y0,pw,t0,a1,k1,a2,k2,a3,k3):\n",
    "    return y0+0.5*a1*(e**(-k1*(t-t0-(pw**2)*k1/2)))*(1+erf((t-t0-k1*(pw**2))/(1.41421356237*pw)))+0.5*(a2*e**(-k2*(t-t0-(pw**2)*k2/2)))*(1+erf((t-t0-k2*(pw**2))/(1.41421356237*pw)))+0.5*(a3*e**(-k3*(t-t0-(pw**2)*k3/2)))*(1+erf((t-t0-k3*(pw**2))/(1.41421356237*pw)))\n",
    "def curve4(t, y0,pw,t0,a1,k1,a2,k2,a3,k3,a4,k4):#,a5,k5,a6,k6):\n",
    "    return y0+0.5*a1*(e**(-k1*(t-t0-(pw**2)*k1/2)))*(1+erf((t-t0-k1*(pw**2))/(1.41421356237*pw)))+0.5*(a2*e**(-k2*(t-t0-(pw**2)*k2/2)))*(1+erf((t-t0-k2*(pw**2))/(1.41421356237*pw)))+0.5*(a3*e**(-k3*(t-t0-(pw**2)*k3/2)))*(1+erf((t-t0-k3*(pw**2))/(1.41421356237*pw)))+0.5*a4*(e**(-k4*(t-t0-(pw**2)*k4/2)))*(1+erf((t-t0-k4*(pw**2))/(1.41421356237*pw)))\n",
    "def curve5(t, y0,pw,t0,a1,k1,a2,k2,a3,k3,a4,k4,a5,k5):\n",
    "    return y0+0.5*a1*(e**(-k1*(t-t0-(pw**2)*k1/2)))*(1+erf((t-t0-k1*(pw**2))/(1.41421356237*pw)))+0.5*(a2*e**(-k2*(t-t0-(pw**2)*k2/2)))*(1+erf((t-t0-k2*(pw**2))/(1.41421356237*pw)))+0.5*(a3*e**(-k3*(t-t0-(pw**2)*k3/2)))*(1+erf((t-t0-k3*(pw**2))/(1.41421356237*pw)))+0.5*a4*(e**(-k4*(t-t0-(pw**2)*k4/2)))*(1+erf((t-t0-k4*(pw**2))/(1.41421356237*pw)))+0.5*a5*(e**(-k5*(t-t0-(pw**2)*k5/2)))*(1+erf((t-t0-k5*(pw**2))/(1.41421356237*pw)))\n",
    "def curve6(t, y0,pw,t0,a1,k1,a2,k2,a3,k3,a4,k4,a5,k5,a6,k6):\n",
    "    return y0+0.5*a1*(e**(-k1*(t-t0-(pw**2)*k1/2)))*(1+erf((t-t0-k1*(pw**2))/(1.41421356237*pw)))+0.5*(a2*e**(-k2*(t-t0-(pw**2)*k2/2)))*(1+erf((t-t0-k2*(pw**2))/(1.41421356237*pw)))+0.5*(a3*e**(-k3*(t-t0-(pw**2)*k3/2)))*(1+erf((t-t0-k3*(pw**2))/(1.41421356237*pw)))+0.5*a4*(e**(-k4*(t-t0-(pw**2)*k4/2)))*(1+erf((t-t0-k4*(pw**2))/(1.41421356237*pw)))+0.5*a5*(e**(-k5*(t-t0-(pw**2)*k5/2)))*(1+erf((t-t0-k5*(pw**2))/(1.41421356237*pw)))+0.5*pow(a6,(-k6*(t-t0-pow(pw,2)*k6/2)))*(1+erf((t-t0-k6*pow(pw,2))/(1.41421356237*pw)))\n",
    "\n",
    "curve3model=Model(curve3)\n",
    "curve4model=Model(curve4)\n",
    "curve5model=Model(curve5)\n",
    "\n",
    "\n",
    "def findT0(params,Y,Z,guess):#,pwguess):\n",
    "    #-----The bad old way----\n",
    "    #params, pc = curve_fit(curve1, Y,Z,maxfev=1000000, p0=[1e-6,0.1,guess,1e-3,1,1e-3,1e-2,1e-3,1e-3,1e-4,1e-3])\n",
    "    #print(params[1], params[2], X[wl])\n",
    "    ##pwguess[0]=params[1]\n",
    "    #return params[2]\n",
    "    \n",
    "    #------the good new way-----\n",
    "    #params['pw'].value= pwguess\n",
    "    params['t0'].value= guess\n",
    "    params['t0'].max= guess+0.2\n",
    "    params['t0'].min= guess-0.2\n",
    "    \n",
    "    lm_output= curvemodel.fit(Z,params, t=Y, nan_policy='propagate')\n",
    "    bestvals= lm_output.best_values\n",
    "    return bestvals['t0']"
   ]
  },
  {
   "cell_type": "code",
   "execution_count": null,
   "metadata": {
    "jupyter": {
     "source_hidden": true
    },
    "scrolled": true
   },
   "outputs": [],
   "source": [
    "#gaussian\n",
    "leftguess=-0.4 #ADJUST -0.4,-0.2\n",
    "curvemodel=curve3model\n",
    "#print('parameter names: {}'.format(curvemodel.param_names))\n",
    "#print('independent variables: {}'.format(curvemodel.independent_vars))\n",
    "\n",
    "params = curvemodel.make_params(y0=1e-6,pw=0.1,t0=leftguess,a1=1e-3,k1=1,a2=1e-3,k2=1e-2,a3=1e-3,k3=1e-3)#,a4=1e-4,k4=1e-3)#,a5=1e-5,k5=1e-3)\n",
    "\n",
    "params['k1'].min=0\n",
    "params['k2'].min=0\n",
    "params['k3'].min=0\n",
    "#params['k4'].min=0\n",
    "#params['k5'].min=0\n",
    "\n",
    "\n",
    "#print(T0)\n",
    "#pwguess=[0.1]\n",
    "T0=[leftguess]\n",
    "for wl in xmaxes:# range(0,np.shape(X)[0]): #\n",
    "    #the indices around the pump wavelength that are all 0\n",
    "    if starti<=wl<=endi: \n",
    "        T0.append(0)\n",
    "        continue\n",
    "    #interpolate the vertical slice over more data points\n",
    "    f=interp1d(Y,Z[:,wl], kind=\"linear\", fill_value=\"extrapolate\")   \n",
    "    Ybig=np.linspace(-100,2600,20000) #start,end,num of points\n",
    "    Zbig=f(Ybig)\n",
    "    \n",
    "    T0.append(findT0(params,Y,Z[:,wl],T0[-1]))#,pwguess[0])) \n",
    "    print(T0[-1],X[wl])\n",
    "print(\"done!\")"
   ]
  },
  {
   "cell_type": "code",
   "execution_count": null,
   "metadata": {
    "jupyter": {
     "source_hidden": true
    }
   },
   "outputs": [],
   "source": [
    "#----FOR TESTING-----\n",
    "%matplotlib widget\n",
    "fig=plt.figure()\n",
    "wl=480\n",
    "i=np.searchsorted(X,wl)\n",
    "#params['t0'].value=\n",
    "one_output= curvemodel.fit(Z[:,i],params, t=Y, nan_policy='propagate')\n",
    "bestvals1= one_output.best_values\n",
    "print(bestvals1['t0'])\n",
    "curveplot=one_output.plot(fig=fig) #plots fit and resids. use plot_fit() or plot_residuals() for each\n",
    "plt.xlim(-1,2)\n"
   ]
  },
  {
   "cell_type": "code",
   "execution_count": null,
   "metadata": {
    "jupyter": {
     "source_hidden": true
    },
    "scrolled": true
   },
   "outputs": [],
   "source": [
    "#---For testing but with slider----\n",
    "%matplotlib widget\n",
    "fig, ax = plt.subplots()\n",
    "\n",
    "\n",
    "def slider(wl):\n",
    "    #finds closest index to that t\n",
    "    i=np.searchsorted(X,wl)\n",
    "    #get horizontal slice\n",
    "    plt.clf()\n",
    "    \n",
    "    one_output= curvemodel.fit(Z[:,i],params, t=Y, nan_policy='propagate')\n",
    "    one_output.plot(fig=fig) #plots fit and resids. use plot_fit() or plot_residuals() for each\n",
    "    plt.xlim(-1,2)\n",
    "    \n",
    "    \n",
    "widgets.interact(slider, wl=(400,800,2))\n"
   ]
  },
  {
   "cell_type": "code",
   "execution_count": null,
   "metadata": {
    "jupyter": {
     "source_hidden": true
    },
    "scrolled": true
   },
   "outputs": [],
   "source": [
    "def chirp_curve(maxwls, a, b, c,d):\n",
    "    return a*pow(maxwls,3)+b*pow(maxwls,2)+c*maxwls+d\n",
    "\n",
    "maxwls=[407] #ADJUST 407,435\n",
    "for i in xmaxes: #converts list of indices to list of wls\n",
    "    maxwls.append(X[i])\n",
    "    \n",
    "params1, pc = curve_fit(chirp_curve, maxwls, T0, maxfev=6000)\n",
    "#params1, pc = curve_fit(chirp_curve, X, T0[:-1], maxfev=6000)\n",
    "t0=chirp_curve(X, params1[0], params1[1], params1[2],params1[3])\n",
    "\n",
    "%matplotlib widget\n",
    "plt.pcolormesh(X,Y,Z, cmap='jet', shading='nearest')\n",
    "\n",
    "plt.plot(maxwls,T0, color=\"yellow\")\n",
    "#plt.plot(X,T0[:-1], color=\"yellow\")\n",
    "\n",
    "plt.plot(X,t0, color=\"white\")\n",
    "plt.ylim(-1,1)\n",
    "#plt.colorbar()"
   ]
  },
  {
   "cell_type": "code",
   "execution_count": null,
   "metadata": {
    "jupyter": {
     "source_hidden": true
    }
   },
   "outputs": [],
   "source": [
    "#CHIRP CORRECTOR-------\n",
    "it0=[]\n",
    "for wl in range(0,np.shape(X)[0]):\n",
    "    it0.append(np.searchsorted(Y,t0[wl]))#gets the index of that wl's t0\n",
    "    \n",
    "#T0=float(y[0])#-0.6\n",
    "iT0=np.searchsorted(Y,T0[0]) #index of first time zero\n",
    "Znew=Z.copy()\n",
    "Ynew=Y.copy()\n",
    "for wl in range(0,np.shape(X)[0]):\n",
    "    shift=0-t0[wl] #note, not all data is around zero, might have to change\n",
    "    for t in range(iT0,np.shape(Y)[0]-1):#start changing from main T0\n",
    "        Ynew[t]=Y[t]+shift\n",
    "        Znew[t,wl]=Z[t,wl]\n",
    "    f=interp1d(Ynew,Znew[:,wl], kind=\"linear\", fill_value=\"extrapolate\")       \n",
    "    Znew[:,wl]=f(Y)\n",
    "\n",
    "#plotter------\n",
    "%matplotlib widget\n",
    "fig, (ax1, ax2) = plt.subplots(1, 2)\n",
    "\n",
    "ax1.pcolormesh(X,Y,Z, cmap='jet', shading='nearest') #before\n",
    "ax1.axis(ymin=-1,ymax=2)\n",
    "ax2.pcolormesh(X,Y,Znew, cmap='jet', shading='nearest')#manual curve\n",
    "ax2.axis(ymin=-1,ymax=2)\n"
   ]
  },
  {
   "cell_type": "code",
   "execution_count": null,
   "metadata": {
    "jupyter": {
     "source_hidden": true
    }
   },
   "outputs": [],
   "source": [
    "class SVD_data:\n",
    "    def __init__(self, X,Y,Z):\n",
    "        self.X = X\n",
    "        self.Y = Y\n",
    "        self.Z = Z\n",
    "        self.u, self.s, self.vh = np.linalg.svd(Z) \n",
    "        self.rankdata ={}\n",
    "    \n",
    "    def get_rankdata(self,*list_of_ranks):\n",
    "        for numRank in list_of_ranks:\n",
    "            if not (numRank in self.rankdata.keys()): \n",
    "                self.rankdata[numRank]= Rank(numRank,self)\n",
    "        return self.rankdata[numRank]\n",
    "    \n",
    "    def plot_s(self,numranks):\n",
    "        x_axis=list(range(1, numranks+1))\n",
    "        plt.scatter(x_axis,self.s[:numranks])\n",
    "        plt.yscale('log')\n",
    "        plt.title('s')\n",
    "        \n",
    "    \n",
    "    def plot_u_and_vh(self,*args):\n",
    "        working=True\n",
    "        for numRank in args:\n",
    "            if not (numRank in self.rankdata.keys()): \n",
    "                print(f\"ERROR: rank={numRank} is not defined. Please call SVD_data.get_rankdata(rank) to define it.\")\n",
    "                working = False\n",
    "        if not working: sys.exit();\n",
    "        if (args):\n",
    "            self.rankdata[args[0]].plot_u_and_vh()\n",
    "        elif (not hasattr(self, 'goodrank')):\n",
    "            print(\"ERROR: you have not specified the rank(int) you want to plot the u and vh for as an argument. This function can also be called without arguments if you set the preferred rank with SVD_Data.set_good_rank(ranknum) \")            \n",
    "        else:\n",
    "            self.goodrank.plot_u_and_vh()\n",
    "            \n",
    "        \n",
    "    def set_good_rank(self,rank):\n",
    "        self.goodrank=self.get_rankdata(rank) \n",
    "    \n",
    "    def plot_ddA(self, *args):\n",
    "        working=True\n",
    "        for numRank in args:\n",
    "            if not (numRank in self.rankdata.keys()): \n",
    "                print(f\"ERROR: rank={numRank} is not defined. Please call SVD_data.get_rankdata(rank) to define it.\")\n",
    "                working = False\n",
    "        if not working: sys.exit();\n",
    "        if (args):\n",
    "            self.rankdata[args[0]].plot_ddA()\n",
    "        elif (not hasattr(self, 'goodrank')):\n",
    "            print(\"ERROR: you have not specified the rank(int) you want to plot the ddA for as an argument. This function can also be called without arguments if you set the preferred rank with SVD_Data.set_good_rank(ranknum) \")            \n",
    "        else:\n",
    "            self.goodrank.plot_ddA()\n",
    "            \n",
    "    def plot_reconstr(self, *args):\n",
    "        working=True\n",
    "        for numRank in args:\n",
    "            if not (numRank in self.rankdata.keys()): \n",
    "                print(f\"ERROR: rank={numRank} is not defined. Please call SVD_data.get_rankdata(rank) to define it.\")\n",
    "                working = False\n",
    "        if not working: sys.exit();\n",
    "        if (args):\n",
    "            self.rankdata[args[0]].plot_reconstr()\n",
    "        elif (not hasattr(self, 'goodrank')):\n",
    "            print(\"ERROR: you have not specified the rank(int) you want to plot the reconstruction for as an argument. This function can also be called without arguments if you set the preferred rank with SVD_Data.set_good_rank(ranknum) \")            \n",
    "        else:\n",
    "            self.goodrank.plot_reconstr()\n",
    "            \n",
    "class Rank:\n",
    "    def __init__(r, rank,svd_data): #want to do things without all these other vars\n",
    "        r.rank = rank\n",
    "        \n",
    "        #u, s, vh = np.linalg.svd(svd_data.Z)\n",
    "        r.u_ranked= svd_data.u[:,:rank]\n",
    "        r.vh_ranked = np.transpose(svd_data.vh[:rank:,])\n",
    "        s_ranked=np.diag(svd_data.s[:rank])\n",
    "        \n",
    "        #creating reconstruced dataset\n",
    "        step1=np.matmul(r.u_ranked,s_ranked)\n",
    "        step2=np.transpose(r.vh_ranked)\n",
    "        r.reconstructed=np.matmul(step1,step2)\n",
    "        \n",
    "        r.ddA=svd_data.Z-r.reconstructed\n",
    "        \n",
    "    def plot_u_and_vh(r):\n",
    "        fig, (ax1, ax2) = plt.subplots(1, 2)\n",
    "\n",
    "        ax1.plot(Y,r.u_ranked)\n",
    "        ax1.set_xlabel('Time(ps)')\n",
    "        ax1.set_ylabel('U')\n",
    "\n",
    "\n",
    "        ax2.plot(X,r.vh_ranked)\n",
    "        ax2.set_xlabel('Wavelength(nm)')\n",
    "        ax2.set_ylabel('Vh')\n",
    "        \n",
    "    def plot_reconstr(r):\n",
    "        plt.pcolormesh(X,Y,r.reconstructed, cmap='jet', shading='nearest')\n",
    "        plt.colorbar()\n",
    "        plt.ylabel('Time(ps)')\n",
    "        plt.xlabel('Wavelength(nm)')\n",
    "        plt.title(f'Reconstructed dataset from SVD for rank={r.rank}')\n",
    "        #probably want to return this as an object...\n",
    "        #plt.ylim(-0.1,2.5)\n",
    "        \n",
    "    def plot_ddA(r): #must deal with getting the X and Y\n",
    "        plt.pcolormesh(X,Y,r.ddA, cmap='jet', shading='nearest')\n",
    "        plt.colorbar()\n",
    "        plt.ylabel('Time(ps)')\n",
    "        plt.xlabel('Wavelength(nm)')\n",
    "        plt.title(f'Delta (Delta A) for rank={r.rank}')\n",
    "        #plt.ylim(-0.1,2.5)\n"
   ]
  },
  {
   "cell_type": "code",
   "execution_count": null,
   "metadata": {
    "jupyter": {
     "source_hidden": true
    }
   },
   "outputs": [],
   "source": [
    "%matplotlib widget\n",
    "\n",
    "test_dataset=SVD_data(X,Y,Znew)\n",
    "\n",
    "test_dataset.get_rankdata(1,2,3)\n",
    "#test_dataset.set_good_rank(3) \n",
    "test_dataset.plot_u_and_vh(3)\n",
    "#test_dataset.plot_s(10)\n",
    "\n",
    "#rank_two=test_dataset.get_rankdata(4)\n",
    "#test_dataset.plot_reconstr(2)\n",
    "plt.ylim(-0.1,2.5)\n",
    "plt.show()"
   ]
  },
  {
   "cell_type": "code",
   "execution_count": null,
   "metadata": {
    "jupyter": {
     "source_hidden": true
    }
   },
   "outputs": [],
   "source": [
    "#testing how variables and objects in python work\n",
    "from sys import getrefcount\n",
    "\n",
    "print(getrefcount(s))\n",
    "asdf=0\n",
    "print(getrefcount(s))\n",
    "asdf=s[3:5]\n",
    "print(getrefcount(s))\n",
    "\n",
    "#trying to make a template so that those two functions don't take up as much space \n",
    "#but i think that is a pointless endeavor\n",
    "def plot_temp(self, func, *args):\n",
    "        working=True\n",
    "        for numRank in args:\n",
    "            if not (numRank in self.rankdata.keys()): \n",
    "                print(f\"ERROR: rank={numRank} is not defined. Please call SVD_data.get_rankdata(rank) to define it.\")\n",
    "                working = False\n",
    "        if not working: sys.exit();\n",
    "        if (args):\n",
    "            self.rankdata[args[0]].func()\n",
    "        elif (not hasattr(self, 'goodrank')):\n",
    "            print(\"ERROR: you have not specified the rank(int) you want to plot the ddA for as an argument. This function can also be called without arguments if you set the preferred rank with SVD_Data.set_good_rank(ranknum) \")            \n",
    "        else:\n",
    "            self.goodrank.func()\n",
    "            \n",
    "def plot_reconstr(self,*args):\n",
    "    self.plot_temp(Rank.plot_reconstr(), args)"
   ]
  },
  {
   "cell_type": "code",
   "execution_count": null,
   "metadata": {
    "jupyter": {
     "source_hidden": true
    },
    "scrolled": true
   },
   "outputs": [],
   "source": [
    "#--finds SVD, plots first ten values of s on log scale----\n",
    "%matplotlib widget\n",
    "u,s,vh = np.linalg.svd(Znew)\n",
    "#print(\"u= \", u,\"s= \",s,\"vh= \",vh)\n",
    "print(np.shape(u)) #time\n",
    "print(np.shape(vh)) #spectra\n",
    "ten=list(range(1, 11))\n",
    "plt.scatter(ten,s[:10])\n",
    "plt.yscale('log')\n",
    "plt.title('s')\n",
    "\n",
    "#---plots u vs wl and vh vs time\n",
    "fig, (ax1, ax2) = plt.subplots(1, 2)\n",
    "\n",
    "rank =4\n",
    "u_ranked= u[:,:rank]\n",
    "vh_ranked = np.transpose(vh[:rank:,])\n",
    "\n",
    "ax1.plot(Y,u_ranked)\n",
    "#ax1.plot(Y,u_ranked[:,0], label=\"1\")\n",
    "#ax1.plot(Y,u_ranked[:,1], label=\"2\")\n",
    "#ax1.plot(Y,u_ranked[:,2], label=\"3\")\n",
    "#ax1.legend()\n",
    "ax1.set_xlabel('Time(ps)')\n",
    "ax1.set_ylabel('U')\n",
    "\n",
    "\n",
    "ax2.plot(X,vh_ranked)\n",
    "#ax2.plot(X,vh_ranked[:,0], label=\"1\")\n",
    "#ax2.plot(X,vh_ranked[:,1], label=\"2\")\n",
    "#ax2.plot(X,vh_ranked[:,2], label=\"3\")\n",
    "#ax2.legend()\n",
    "ax2.set_xlabel('Wavelength(nm)')\n",
    "ax2.set_ylabel('Vh')\n",
    "\n",
    "#---Reconstructing the dataset from SVD---\n",
    "\n",
    "s_ranked=np.diag(s[:rank])\n",
    "#print(s_ranked)\n",
    "step1=np.matmul(u_ranked,s_ranked)\n",
    "#print(np.shape(step1))\n",
    "step2=np.transpose(vh_ranked)\n",
    "#print(np.shape(step2))\n",
    "step3=np.matmul(step1,step2)\n",
    "#print(np.shape(step3))\n",
    "plt.pcolormesh(X,Y,step3, cmap='jet', shading='nearest')\n",
    "plt.colorbar()\n",
    "plt.ylabel('Time(ps)')\n",
    "plt.xlabel('Wavelength(nm)')\n",
    "plt.title('Reconstructed dataset from SVD')\n",
    "#plt.ylim(-0.1,2.5)\n",
    "#plt.xlim(406,450)\n",
    "\n",
    "#---plotting the residual-----\n",
    "%matplotlib widget\n",
    "ddA= Znew-step3\n",
    "print(np.shape(ddA))\n",
    "plt.pcolormesh(X,Y,ddA, cmap='jet', shading='nearest')\n",
    "plt.colorbar()\n",
    "plt.ylabel('Time(ps)')\n",
    "plt.xlabel('Wavelength(nm)')\n",
    "plt.title('Delta (Delta A)')\n",
    "#plt.ylim(-0.1,2.5)\n",
    "#plt.xlim(406,450)\n"
   ]
  },
  {
   "cell_type": "code",
   "execution_count": null,
   "metadata": {
    "jupyter": {
     "source_hidden": true
    }
   },
   "outputs": [],
   "source": [
    "print(Znew.mean())# rank=1 mean=-2.1877917989063186e-06, rank=4 mean=5.802757866609229e-07\n",
    "#can compare mean of residual... the lower the mean the closer it is to the dataset\n",
    "#but what is the baseline for the noise? like what is a good number?\n",
    "#could plot the means and see when there is a sharp decrease? \n",
    "\n",
    "#options: mean, corcoeff, autocorrelation,??\n",
    "\n",
    "\n",
    "for col in range((np.shape(X))[0]):\n",
    "    slice2=ddA[:,col]\n",
    "    R=abs(np.corrcoef(Y,slice2))[0,1]\n",
    "    #listofR.append(R)\n",
    "    #print(R)\n",
    "for row in range((np.shape(Y))[0]):\n",
    "    slice3=ddA[row,:]\n",
    "    R1=abs(np.corrcoef(X,slice3))[0,1]\n",
    "    #listofR.append(R)\n",
    "    #print(R1)"
   ]
  },
  {
   "cell_type": "code",
   "execution_count": null,
   "metadata": {
    "jupyter": {
     "source_hidden": true
    },
    "tags": [
     "hide"
    ]
   },
   "outputs": [],
   "source": [
    "#---this grabs the fixed data from IGOR to compare the chirping\n",
    "\n",
    "filename=\"P-1-3A-P-ex600nm-50uW-fs-chirped.csv\"#22BPNODIPS chloroform 600 200mW PTA fixed.csv\n",
    "rawdata = open(filename)\n",
    "\n",
    "#step 1: split the data from the info at the end\n",
    "#making it into new files: optional, can stick them into variables instead\n",
    "fileinfo=filename[0:-4]+\"-info\"+\".csv\"\n",
    "fileinfofile= open(fileinfo, \"w\") #'w' makes it write only so deletes prev version of it\n",
    "justdata=filename[0:-4]+\"-data\"+\".csv\"\n",
    "justdatafile=open(justdata, \"w\")\n",
    "\n",
    "for line in rawdata:\n",
    "    if len(line)<100: #if it is not data but text\n",
    "        fileinfofile.write(line) \n",
    "    #step 2: remove the NaNs at the begining\n",
    "    else: \n",
    "        nan=False\n",
    "        for char in line:\n",
    "            if char == 'n':\n",
    "                nan=True\n",
    "                break\n",
    "        if nan:\n",
    "            continue\n",
    "        else:\n",
    "            justdatafile.write(line)\n",
    "fileinfofile.close() #its good practice to close files :)\n",
    "rawdata.close()\n",
    "justdatafile.close()\n",
    "print((open(fileinfo)).read())\n",
    "dataarray1 = (np.genfromtxt(justdata, delimiter=\",\",  filling_values=0)).T\n",
    "print(np.shape(dataarray1))\n",
    "A=dataarray1[0,1:].T #works\n",
    "B=dataarray1[1:,0]\n",
    "C=dataarray1[1:,1:]"
   ]
  },
  {
   "cell_type": "code",
   "execution_count": null,
   "metadata": {
    "jupyter": {
     "source_hidden": true
    },
    "scrolled": true
   },
   "outputs": [],
   "source": [
    "#step 3: remove the noise at the begining and end\n",
    "#read the begining, check if its noise, remove it\n",
    "#same thing from the end\n",
    "\n",
    "listofR=[]\n",
    "#print((np.shape(X)))\n",
    "coef=0.2 #for first dataset it was 0.4 THIS NEEDS ADJUSTING\n",
    "for col in range((np.shape(A))[0]):\n",
    "    slice2=C[:,col]\n",
    "    R=abs(np.corrcoef(B,slice2))[0,1]\n",
    "    listofR.append(R)\n",
    "    print(R)\n",
    "i=0\n",
    "while listofR[i]<coef: #find uncorrelated data in the beginning \n",
    "    C=np.delete(C,0,1) #remove that row from Z\n",
    "    A=np.delete(A,0,0) #remove the wavelength too\n",
    "    i=i+1\n",
    "i=(np.shape(A))[0]-1#same thing but from the end\n",
    "while listofR[i]<coef:\n",
    "    C=np.delete(C,-1,1)\n",
    "    A=np.delete(A,-1,0)\n",
    "    i=i-1\n",
    "\n",
    "#step 4: remove the laser\n",
    "#add a manual option\n",
    "fileinforead=open(fileinfo)\n",
    "pumpwl=600\n",
    "for line in fileinforead:\n",
    "    if line[0:15]=='Pump wavelength':\n",
    "        pumpwl= int(line[-4:-1])\n",
    "        print(pumpwl)\n",
    "if pumpwl!=0:\n",
    "    starti = np.searchsorted(A, (pumpwl - 10))#this can be adjusted\n",
    "    endi = np.searchsorted(A, (pumpwl + 10))\n",
    "    C[:,starti:endi]=0\n",
    "if pumpwl==0:\n",
    "    print(\"did not find data\")\n",
    "    \n",
    "%matplotlib widget\n",
    "fig, (ax1, ax2) = plt.subplots(1, 2)\n",
    "\n",
    "ax1.pcolormesh(X,Y,Znew, cmap='jet', shading='nearest')\n",
    "ax1.axis(ymin=-1,ymax=1)\n",
    "ax2.pcolormesh(A,B,C, cmap='jet', shading='nearest')\n",
    "ax2.axis(ymin=-1,ymax=1)"
   ]
  },
  {
   "cell_type": "code",
   "execution_count": null,
   "metadata": {
    "jupyter": {
     "source_hidden": true
    }
   },
   "outputs": [],
   "source": [
    "#thing to check how different i am from the properly fixed one\n",
    "%matplotlib widget\n",
    "\n",
    "D=Znew[:453,8:344]-C #datasets are different sizes, this centers them\n",
    "for wl in range(0,np.shape(C)[1]): \n",
    "    for t in range(0,np.shape(C)[0]):\n",
    "        D[t,wl]=D[t,wl]-C[t,wl]\n",
    "\n",
    "plt.pcolormesh(X[:336],Y[:453],D, cmap='jet', shading='nearest')\n",
    "plt.ylim(0,10)\n",
    "plt.colorbar()\n"
   ]
  },
  {
   "cell_type": "code",
   "execution_count": null,
   "metadata": {
    "jupyter": {
     "source_hidden": true
    },
    "scrolled": true
   },
   "outputs": [],
   "source": [
    "#horizontal slice\n",
    "%matplotlib widget\n",
    "fig, ax = plt.subplots()\n",
    "\n",
    "\n",
    "def slider(t):\n",
    "    #finds closest index to that t\n",
    "    i = np.searchsorted(Y, t)\n",
    "    #get horizontal slice\n",
    "    slice1=Znew[i,:]\n",
    "    [l.remove() for l in ax.lines]\n",
    "    ax.plot(X,slice1,color=\"black\")\n",
    "   \n",
    "    \n",
    "widgets.interact(slider, t=(-1,1,0.1))\n"
   ]
  },
  {
   "cell_type": "code",
   "execution_count": null,
   "metadata": {
    "jupyter": {
     "source_hidden": true
    },
    "scrolled": true
   },
   "outputs": [],
   "source": [
    "#VERTICAL SLICE----------\n",
    "%matplotlib widget\n",
    "fig, ax = plt.subplots()\n",
    "\n",
    "\n",
    "def slider(wl):\n",
    "    #finds closest index to that wl\n",
    "    i = np.searchsorted(X, 512)\n",
    "    print(i)\n",
    "    slice2=Z[:,i];\n",
    "    [l.remove() for l in ax.lines]\n",
    "    ax.plot(Y,slice2,color=\"black\")\n",
    "\n",
    "#Slider used to select wavelength\n",
    "widgets.interact(slider, wl=(400,700,3))\n",
    "\n",
    "#need to give it a different amplitude sign\n",
    "#do the fit with a few initial guesses\n",
    "#giving it a bad value for pw? so need to find a better thing\n",
    "\n"
   ]
  },
  {
   "cell_type": "code",
   "execution_count": null,
   "metadata": {
    "jupyter": {
     "source_hidden": true
    }
   },
   "outputs": [],
   "source": [
    "#error function....\n",
    "#define parameters of the chunk of plot we r looking at\n",
    "#loop through all vertical slices and do the error function thing\n",
    "#use those points as the curve\n",
    "#stretch/interpolate\n",
    "start=np.searchsorted(Y, 0.6)\n",
    "end=np.searchsorted(Y, -0.6)\n",
    "wl=np.searchsorted(X, 528)\n",
    "error=erf(Z[start:end,wl])\n",
    "print(error)\n"
   ]
  },
  {
   "cell_type": "code",
   "execution_count": null,
   "metadata": {
    "jupyter": {
     "source_hidden": true
    }
   },
   "outputs": [],
   "source": [
    "np.float128(1) + np.float128(2**-64) - np.float128(1)\n",
    "#an answer of 0.0 indicates that the float128 type contains no more than 64 bits of precision"
   ]
  },
  {
   "cell_type": "code",
   "execution_count": null,
   "metadata": {
    "jupyter": {
     "source_hidden": true
    }
   },
   "outputs": [],
   "source": [
    "#Finds Gaussian convoluted with 3 exponentials at this wavelength\n",
    "%matplotlib widget\n",
    "plt.plot(Y,Z[:,248]) #blue wl=700\n",
    "plt.plot(Ybig,Zbig) #orange\n",
    "ExpGauss2=curve1(Ybig,params[0],params[1],params[2],params[3],params[4],params[5],params[6],params[7],params[8])#,params[9],params[10],params[11],params[12])\n",
    "plt.plot(Ybig,ExpGauss2)#green\n",
    "delta2=Zbig-ExpGauss2\n",
    "plt.plot(Ybig,delta2)#red\n",
    "#[-3.36189614e-05  1.97442342e+00 -5.70929342e+03  1.00000217e+00\n",
    "# 1.52916609e+03  1.00000220e+00  1.49084208e+03  1.00000168e+00\n",
    "#  1.46483839e+03]"
   ]
  },
  {
   "cell_type": "code",
   "execution_count": null,
   "metadata": {
    "jupyter": {
     "source_hidden": true
    }
   },
   "outputs": [],
   "source": [
    "#DONT need this :)\n",
    "#making the curve \n",
    "x=[]\n",
    "y=[]\n",
    "for i in range(0,10):\n",
    "    x.append(400+i*50)    \n",
    "    y.append(input(\"Y value for wavelength \"+str(x[i])+\":\"))\n",
    "#x=[400,450,500,550,600,650,700,750,800,850]\n",
    "#y=['-0.65', '-0.2', '0.1', '0.25', '0.45', '0.5', '0.55', '0.6', '0.6',\"0.65\"]\n"
   ]
  },
  {
   "cell_type": "code",
   "execution_count": null,
   "metadata": {
    "jupyter": {
     "source_hidden": true
    },
    "scrolled": true
   },
   "outputs": [],
   "source": [
    "#plots individual wavelength curve fit but the old way, needs fixing\n",
    "%matplotlib widget\n",
    "i = np.searchsorted(X, 655) #the wavelength with the issue\n",
    "#i=91\n",
    "print(i)\n",
    "slice2=Z[:,i];\n",
    "\n",
    "#plots the slice\n",
    "plt.plot(Y,slice2,color=\"black\")\n",
    "guess=0.27\n",
    "params, pc = curve_fit(curve3, Y,Z[:,i],maxfev=100000, p0=[1e-6,0.1,guess,1e-3,1,1e-3,1e-2,1e-3,1e-3])\n",
    "\n",
    "#plots the curve fit \n",
    "curv = curve3(Y,params[0], params[1], params[2],params[3],params[4], params[5], params[6],params[7], params[8])\n",
    "plt.plot(Y, curv)\n",
    "plt.xlim(-1,1)\n",
    "\n",
    "#prints what the curv thinks t0 is\n",
    "print(\"what the curve calculates for the variable t0: \", params[2], \"ps\")\n",
    "print(\"this is t0 that is eyeballed\",Y[g], \"ps\")\n",
    "\n"
   ]
  },
  {
   "cell_type": "code",
   "execution_count": null,
   "metadata": {
    "jupyter": {
     "source_hidden": true
    }
   },
   "outputs": [],
   "source": [
    "#also dont think i need this\n",
    "#CHIRP CORRECTOR 2.0??-------\n",
    "Znewer=Z.copy()\n",
    "Ynewer=Y.copy()\n",
    "\n",
    "for wl in range(0,np.shape(X)[0]):\n",
    "    shift=0-T[wl] #note, not all data is around zero, might have to change\n",
    "    for t in range(0,np.shape(Y)[0]-1):#start changing from main T0\n",
    "        Ynewer[t]=Y[t]+shift\n",
    "        Znewer[t,wl]=Z[t,wl]\n",
    "    f=interp1d(Ynewer,Znewer[:,wl], kind=\"linear\", fill_value=\"extrapolate\")       \n",
    "    Znewer[:,wl]=f(Y)\n",
    "print('done!')"
   ]
  },
  {
   "cell_type": "code",
   "execution_count": null,
   "metadata": {
    "jupyter": {
     "source_hidden": true
    }
   },
   "outputs": [],
   "source": [
    "#saves everything\n",
    "fixeddata =np.insert(Znew,0,Y, axis=1)\n",
    "Xx= np.insert(X,0,0,axis=0)\n",
    "Fixeddata= np.insert(fixeddata,0,Xx,axis=0)\n",
    "np.savetxt(justdata, Fixeddata, delimiter=\",\")"
   ]
  }
 ],
 "metadata": {
  "celltoolbar": "Raw Cell Format",
  "kernelspec": {
   "display_name": "Python 3",
   "language": "python",
   "name": "python3"
  },
  "language_info": {
   "codemirror_mode": {
    "name": "ipython",
    "version": 3
   },
   "file_extension": ".py",
   "mimetype": "text/x-python",
   "name": "python",
   "nbconvert_exporter": "python",
   "pygments_lexer": "ipython3",
   "version": "3.7.5"
  }
 },
 "nbformat": 4,
 "nbformat_minor": 4
}
