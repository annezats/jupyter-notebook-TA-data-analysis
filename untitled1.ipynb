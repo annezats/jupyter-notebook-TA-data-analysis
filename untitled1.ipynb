{
 "cells": [
  {
   "cell_type": "code",
   "execution_count": 1,
   "metadata": {},
   "outputs": [],
   "source": [
    "#%matplotlib widget\n",
    "import numpy as np\n",
    "import matplotlib.pyplot as plt"
   ]
  },
  {
   "cell_type": "code",
   "execution_count": 2,
   "metadata": {},
   "outputs": [],
   "source": [
    "filename=\"testdata.csv\"#22BPNODIPS chloroform 600 200mW PTA fixed.csv\n",
    "rawdata = open(filename)\n",
    "#do the make it better stuff\n"
   ]
  },
  {
   "cell_type": "code",
   "execution_count": 3,
   "metadata": {},
   "outputs": [
    {
     "name": "stdout",
     "output_type": "stream",
     "text": [
      "(454, 337)\n"
     ]
    }
   ],
   "source": [
    "dataarray = (np.genfromtxt(rawdata, delimiter=\",\", filling_values=0)).T\n",
    "print(np.shape(dataarray))"
   ]
  },
  {
   "cell_type": "code",
   "execution_count": 5,
   "metadata": {},
   "outputs": [
    {
     "name": "stdout",
     "output_type": "stream",
     "text": [
      "(336,)\n",
      "(453,)\n",
      "(453, 336)\n"
     ]
    }
   ],
   "source": [
    "X=dataarray[0,1:].T #works\n",
    "Y=dataarray[1:,0]\n",
    "Z=dataarray[1:,1:]\n",
    "print(np.shape(X))\n",
    "print(np.shape(Y))\n",
    "print(np.shape(Z))"
   ]
  },
  {
   "cell_type": "code",
   "execution_count": 6,
   "metadata": {
    "scrolled": true
   },
   "outputs": [
    {
     "data": {
      "application/vnd.jupyter.widget-view+json": {
       "model_id": "6f9d30e966864effb1279a21a8ff44de",
       "version_major": 2,
       "version_minor": 0
      },
      "text/plain": [
       "Canvas(toolbar=Toolbar(toolitems=[('Home', 'Reset original view', 'home', 'home'), ('Back', 'Back to previous …"
      ]
     },
     "metadata": {},
     "output_type": "display_data"
    },
    {
     "data": {
      "text/plain": [
       "[<matplotlib.lines.Line2D at 0x11c676f90>]"
      ]
     },
     "execution_count": 6,
     "metadata": {},
     "output_type": "execute_result"
    }
   ],
   "source": [
    "%matplotlib widget\n",
    "#input wavelength\n",
    "wl=532\n",
    "#finds closest index to that wl\n",
    "i = np.searchsorted(X, wl)\n",
    "#get vertical slice\n",
    "slice2=Z[:,i]\n",
    "plt.plot(Y,slice2)"
   ]
  },
  {
   "cell_type": "code",
   "execution_count": 7,
   "metadata": {
    "scrolled": true
   },
   "outputs": [
    {
     "name": "stdout",
     "output_type": "stream",
     "text": [
      "359\n"
     ]
    },
    {
     "data": {
      "application/vnd.jupyter.widget-view+json": {
       "model_id": "13ea152341b74ed4b689c7de403941b6",
       "version_major": 2,
       "version_minor": 0
      },
      "text/plain": [
       "Canvas(toolbar=Toolbar(toolitems=[('Home', 'Reset original view', 'home', 'home'), ('Back', 'Back to previous …"
      ]
     },
     "metadata": {},
     "output_type": "display_data"
    },
    {
     "data": {
      "text/plain": [
       "[<matplotlib.lines.Line2D at 0x11cf74910>]"
      ]
     },
     "execution_count": 7,
     "metadata": {},
     "output_type": "execute_result"
    }
   ],
   "source": [
    "%matplotlib widget\n",
    "#input time \n",
    "t= 300\n",
    "#finds closest index to that time\n",
    "i = np.searchsorted(Y, t)\n",
    "print(i)\n",
    "slice1=Z[i,:]\n",
    "#get horizontal slice\n",
    "plt.plot(X,slice1)\n"
   ]
  },
  {
   "cell_type": "code",
   "execution_count": 8,
   "metadata": {
    "scrolled": true
   },
   "outputs": [
    {
     "data": {
      "application/vnd.jupyter.widget-view+json": {
       "model_id": "b410a2ce4ba7429aaa6842b23bd53072",
       "version_major": 2,
       "version_minor": 0
      },
      "text/plain": [
       "Canvas(toolbar=Toolbar(toolitems=[('Home', 'Reset original view', 'home', 'home'), ('Back', 'Back to previous …"
      ]
     },
     "metadata": {},
     "output_type": "display_data"
    },
    {
     "data": {
      "text/plain": [
       "<matplotlib.collections.QuadMesh at 0x110496210>"
      ]
     },
     "execution_count": 8,
     "metadata": {},
     "output_type": "execute_result"
    }
   ],
   "source": [
    "%matplotlib widget\n",
    "plt.pcolormesh(X,Y,Z, cmap='jet', shading='nearest')\n",
    "#because Z is the same size as XY, an error pops up because \n",
    "#XY should be (N+1,M+1) if Z is (N,M)\n",
    "#shading='nearest' makes the pixels centered on the coordinates"
   ]
  },
  {
   "cell_type": "code",
   "execution_count": 9,
   "metadata": {},
   "outputs": [
    {
     "data": {
      "application/vnd.jupyter.widget-view+json": {
       "model_id": "fada15c140ee4f3db4e66fee766b80d2",
       "version_major": 2,
       "version_minor": 0
      },
      "text/plain": [
       "interactive(children=(IntSlider(value=596, description='wl', max=825, min=400, step=28), Output()), _dom_class…"
      ]
     },
     "metadata": {},
     "output_type": "display_data"
    },
    {
     "data": {
      "text/plain": [
       "<function __main__.slider(wl)>"
      ]
     },
     "execution_count": 9,
     "metadata": {},
     "output_type": "execute_result"
    }
   ],
   "source": [
    "%matplotlib widget\n",
    "import ipywidgets as widgets\n",
    "\n",
    "#plt.pcolormesh(X,Y,Z, cmap='jet', shading='nearest')\n",
    "\n",
    "def slider(wl):\n",
    "    #finds closest index to that wl\n",
    "    i = np.searchsorted(X, wl)\n",
    "    #get vertical slice\n",
    "    slice2=Z[:,i-1]\n",
    "    plt.plot(Y,slice2);\n",
    "    \n",
    "    \n",
    "    #instead of print i, do thing on graph for i!!!!\n",
    "    #put creation of the other graph\n",
    "    #this is just the slider, have to add another thing for the cursor\n",
    "widgets.interact(slider, wl=(400,825,28))\n",
    "#have to figure out how to make the widget centered?\n",
    "\n"
   ]
  },
  {
   "cell_type": "code",
   "execution_count": null,
   "metadata": {},
   "outputs": [],
   "source": []
  },
  {
   "cell_type": "code",
   "execution_count": null,
   "metadata": {},
   "outputs": [],
   "source": []
  }
 ],
 "metadata": {
  "kernelspec": {
   "display_name": "Python 3",
   "language": "python",
   "name": "python3"
  },
  "language_info": {
   "codemirror_mode": {
    "name": "ipython",
    "version": 3
   },
   "file_extension": ".py",
   "mimetype": "text/x-python",
   "name": "python",
   "nbconvert_exporter": "python",
   "pygments_lexer": "ipython3",
   "version": "3.7.5"
  }
 },
 "nbformat": 4,
 "nbformat_minor": 4
}
