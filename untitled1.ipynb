{
 "cells": [
  {
   "cell_type": "markdown",
   "metadata": {},
   "source": [
    "hi \n",
    "{\n",
    "    \"tags\": [\n",
    "        \"hide-input\",\n",
    "    ]\n",
    "}"
   ]
  },
  {
   "cell_type": "code",
   "execution_count": 98,
   "metadata": {},
   "outputs": [],
   "source": [
    "\n",
    "import numpy as np\n",
    "import matplotlib.pyplot as plt\n",
    "import scipy.special as sp\n",
    "from scipy.interpolate import interp1d\n",
    "from scipy.optimize import curve_fit\n",
    "import matplotlib.lines as mlines\n",
    "import ipywidgets as widgets\n"
   ]
  },
  {
   "cell_type": "code",
   "execution_count": 2,
   "metadata": {},
   "outputs": [
    {
     "name": "stdout",
     "output_type": "stream",
     "text": [
      "\n",
      "Date: March 16, 2015\n",
      "Sample: NODIPS-22BP-Chloroform\n",
      "Solvent: THF\n",
      "Pump energy (uJ): 200 uW\n",
      "Pump wavelength (nm): 600\n",
      "Cuvette length (mm): 2\n",
      "Comments: Time Zero: 505.800 ps\n",
      "Averaging time: 2.0 s\n",
      "Number of scans: 2\n",
      "Measurement time: 00:37:49\n",
      "\n",
      "Time units: ps\n",
      "Z axis title: dA\n"
     ]
    }
   ],
   "source": [
    "filename=\"22BPNODIPS chloroform 600 200mW PTA fixed.csv\"#22BPNODIPS chloroform 600 200mW PTA fixed.csv\n",
    "rawdata = open(filename)\n",
    "\n",
    "#step 1: split the data from the info at the end\n",
    "#making it into new files: optional, can stick them into variables instead\n",
    "fileinfo=filename[0:-4]+\"-info\"+\".csv\"\n",
    "fileinfofile= open(fileinfo, \"w\") #'w' makes it write only so deletes prev version of it\n",
    "justdata=filename[0:-4]+\"-data\"+\".csv\"\n",
    "justdatafile=open(justdata, \"w\")\n",
    "\n",
    "for line in rawdata:\n",
    "    if len(line)<100: #if it is not data but text\n",
    "        fileinfofile.write(line) \n",
    "    #step 2: remove the NaNs at the begining\n",
    "    else: \n",
    "        nan=False\n",
    "        for char in line:\n",
    "            if char == 'N':\n",
    "                nan=True\n",
    "                break\n",
    "        if nan:\n",
    "            continue\n",
    "        else:\n",
    "            justdatafile.write(line)\n",
    "fileinfofile.close() #its good practice to close files :)\n",
    "rawdata.close()\n",
    "justdatafile.close()\n",
    "print((open(fileinfo)).read())"
   ]
  },
  {
   "cell_type": "code",
   "execution_count": 3,
   "metadata": {},
   "outputs": [
    {
     "name": "stdout",
     "output_type": "stream",
     "text": [
      "(456, 454)\n"
     ]
    }
   ],
   "source": [
    "dataarray = (np.genfromtxt(justdata, delimiter=\",\",  filling_values=0)).T\n",
    "print(np.shape(dataarray))"
   ]
  },
  {
   "cell_type": "code",
   "execution_count": 4,
   "metadata": {},
   "outputs": [
    {
     "name": "stdout",
     "output_type": "stream",
     "text": [
      "(453,)\n",
      "(455,)\n",
      "(455, 453)\n"
     ]
    }
   ],
   "source": [
    "X=dataarray[0,1:].T #works\n",
    "Y=dataarray[1:,0]\n",
    "Z=dataarray[1:,1:]\n",
    "print(np.shape(X))\n",
    "print(np.shape(Y))\n",
    "print(np.shape(Z))"
   ]
  },
  {
   "cell_type": "code",
   "execution_count": 5,
   "metadata": {},
   "outputs": [],
   "source": [
    "#step 3: remove the noise at the begining and end\n",
    "#read the begining, check if its noise, remove it\n",
    "#same thing from the end\n",
    "\n",
    "listofR=[]\n",
    "#print((np.shape(X)))\n",
    "coef=0.4 #for first dataset it was 0.4 THIS NEEDS ADJUSTING\n",
    "for col in range((np.shape(X))[0]):\n",
    "    slice2=Z[:,col]\n",
    "    R=abs(np.corrcoef(Y,slice2))[0,1]\n",
    "    listofR.append(R)\n",
    "    #print(R)\n",
    "i=0\n",
    "while listofR[i]<coef: #find uncorrelated data in the beginning \n",
    "    Z=np.delete(Z,0,1) #remove that row from Z\n",
    "    X=np.delete(X,0,0) #remove the wavelength too\n",
    "    i=i+1\n",
    "i=(np.shape(X))[0]-1#same thing but from the end\n",
    "while listofR[i]<coef:\n",
    "    Z=np.delete(Z,-1,1)\n",
    "    X=np.delete(X,-1,0)\n",
    "    i=i-1\n"
   ]
  },
  {
   "cell_type": "code",
   "execution_count": 6,
   "metadata": {},
   "outputs": [
    {
     "name": "stdout",
     "output_type": "stream",
     "text": [
      "600\n"
     ]
    }
   ],
   "source": [
    "#step 4: remove the laser\n",
    "#add a manual option\n",
    "fileinforead=open(fileinfo)\n",
    "pumpwl=0\n",
    "for line in fileinforead:\n",
    "    if line[0:15]=='Pump wavelength':\n",
    "        pumpwl= int(line[-4:-1])\n",
    "        print(pumpwl)\n",
    "if pumpwl!=0:\n",
    "    starti = np.searchsorted(X, (pumpwl - 20))\n",
    "    endi = np.searchsorted(X, (pumpwl + 20))\n",
    "    Z[:,starti:endi]=0\n",
    "if pumpwl==0:\n",
    "    print(\"did not find data\")"
   ]
  },
  {
   "cell_type": "code",
   "execution_count": 7,
   "metadata": {
    "scrolled": false
   },
   "outputs": [
    {
     "data": {
      "application/vnd.jupyter.widget-view+json": {
       "model_id": "7d250d6e10aa41b7b1839c8c6293537e",
       "version_major": 2,
       "version_minor": 0
      },
      "text/plain": [
       "Canvas(toolbar=Toolbar(toolitems=[('Home', 'Reset original view', 'home', 'home'), ('Back', 'Back to previous …"
      ]
     },
     "metadata": {},
     "output_type": "display_data"
    },
    {
     "data": {
      "text/plain": [
       "<matplotlib.collections.QuadMesh at 0x1173f1c50>"
      ]
     },
     "execution_count": 7,
     "metadata": {},
     "output_type": "execute_result"
    }
   ],
   "source": [
    "%matplotlib widget\n",
    "plt.pcolormesh(X,Y,Z, cmap='jet', shading='nearest')\n",
    "#plt.yscale('log')\n",
    "#ax.set(ylim=(-1, 10000))\n",
    "\n",
    "#plt.savefig(\"mygraph.png\")\n",
    "#because Z is the same size as XY, an error pops up because \n",
    "#XY should be (N+1,M+1) if Z is (N,M)\n",
    "#shading='nearest' makes the pixels centered on the coordinates"
   ]
  },
  {
   "cell_type": "code",
   "execution_count": null,
   "metadata": {},
   "outputs": [],
   "source": [
    "#making the curve \n",
    "x=[]\n",
    "y=[]\n",
    "for i in range(0,10):\n",
    "    x.append(400+i*50)    \n",
    "    y.append(input(\"Y value for wavelength \"+str(x[i])+\":\"))"
   ]
  },
  {
   "cell_type": "code",
   "execution_count": 12,
   "metadata": {
    "scrolled": true
   },
   "outputs": [
    {
     "name": "stdout",
     "output_type": "stream",
     "text": [
      "[ 3.80472975e+03  4.14361336e-04 -3.81456380e+03]\n"
     ]
    },
    {
     "data": {
      "application/vnd.jupyter.widget-view+json": {
       "model_id": "f1d4547f91654558a24378b28455cfcd",
       "version_major": 2,
       "version_minor": 0
      },
      "text/plain": [
       "Canvas(toolbar=Toolbar(toolitems=[('Home', 'Reset original view', 'home', 'home'), ('Back', 'Back to previous …"
      ]
     },
     "metadata": {},
     "output_type": "display_data"
    }
   ],
   "source": [
    "%matplotlib widget\n",
    "#did some different types of curve fitting to see which one is better\n",
    "#interpolates your points to a curve \n",
    "x=[400,450,500,550,600,650,700,750,800,850]\n",
    "y=['-0.65', '-0.2', '0.1', '0.25', '0.45', '0.5', '0.55', '0.6', '0.6',\"0.65\"]\n",
    "f=interp1d(x,y, kind=\"quadratic\", fill_value=\"extrapolate\")       \n",
    "t0=f(X)\n",
    "\n",
    "#curve_fit need a function.\n",
    "def test_func(x, a, b, c):\n",
    "    return a*pow(x,b)+c\n",
    "params, pc = curve_fit(test_func, x, y, maxfev=6000)\n",
    "print(params)\n",
    "t01=test_func(X, params[0], params[1], params[2])\n",
    "\n",
    "\n",
    "def betterfunc(x, a, b):\n",
    "    return a*pow(x,-3)+b\n",
    "params, pc = curve_fit(betterfunc, x, y)\n",
    "#print(params)\n",
    "t02=betterfunc(X, params[0], params[1])\n",
    "\n",
    "a=plt.plot(X, t01)#the one where it does its own thing\n",
    "b=plt.plot(X, t02) #the one where I specify a power\n",
    "c=plt.plot(X, t0) #the interp1d one\n",
    "\n",
    "ah = mlines.Line2D([], [], color='blue',label='t01')\n",
    "bh = mlines.Line2D([], [], color='orange',label='t02')\n",
    "ch = mlines.Line2D([], [], color='green',label='t0')\n",
    "plt.legend(handles=[ah,bh,ch])\n",
    "\n",
    "plt.show()"
   ]
  },
  {
   "cell_type": "code",
   "execution_count": 45,
   "metadata": {
    "scrolled": true
   },
   "outputs": [
    {
     "data": {
      "application/vnd.jupyter.widget-view+json": {
       "model_id": "45d2034961be4d14aa1794d0ddd1b24f",
       "version_major": 2,
       "version_minor": 0
      },
      "text/plain": [
       "Canvas(toolbar=Toolbar(toolitems=[('Home', 'Reset original view', 'home', 'home'), ('Back', 'Back to previous …"
      ]
     },
     "metadata": {},
     "output_type": "display_data"
    },
    {
     "data": {
      "text/plain": [
       "<matplotlib.colorbar.Colorbar at 0x126036910>"
      ]
     },
     "execution_count": 45,
     "metadata": {},
     "output_type": "execute_result"
    }
   ],
   "source": [
    "%matplotlib widget\n",
    "plt.pcolormesh(X,Y,Z, cmap='jet', shading='nearest')\n",
    "plt.plot(X,t02, color=\"white\")\n",
    "plt.ylim(-1,1)\n",
    "plt.colorbar()"
   ]
  },
  {
   "cell_type": "code",
   "execution_count": 14,
   "metadata": {},
   "outputs": [],
   "source": [
    "it02=[]\n",
    "for wl in range(0,np.shape(X)[0]):\n",
    "    it02.append(np.searchsorted(Y,t02[wl]))#gets the index of that wl's t0\n",
    "    \n",
    "#moving everything down the easiest way i could figure\n",
    "T0=float(y[0])#-0.6\n",
    "iT0=np.searchsorted(Y,T0)\n",
    "Znew=Z.copy()\n",
    "for wl in range(0,np.shape(X)[0]):\n",
    "    shift=0-t02[wl] \n",
    "    for t in range(iT0,np.shape(Y)[0]-1):#start changing from main T0\n",
    "        tnew=Y[t]-shift\n",
    "        itnew=np.searchsorted(Y,tnew)\n",
    "        Znew[t,wl]=Z[itnew,wl]\n",
    "    "
   ]
  },
  {
   "cell_type": "code",
   "execution_count": null,
   "metadata": {},
   "outputs": [],
   "source": [
    "it02=[]\n",
    "for wl in range(0,np.shape(X)[0]):\n",
    "    it02.append(np.searchsorted(Y,t02[wl]))#gets the index of that wl's t0\n",
    "    \n",
    "    \n",
    "#plot the vertical slice\n",
    "#change the x values?\n",
    "#after t=10, doesn't matter.\n",
    "#find n. \n",
    "\n",
    "    "
   ]
  },
  {
   "cell_type": "code",
   "execution_count": 15,
   "metadata": {
    "scrolled": false
   },
   "outputs": [
    {
     "data": {
      "application/vnd.jupyter.widget-view+json": {
       "model_id": "29f4f621fee149b2913e8bce2b72db78",
       "version_major": 2,
       "version_minor": 0
      },
      "text/plain": [
       "Canvas(toolbar=Toolbar(toolitems=[('Home', 'Reset original view', 'home', 'home'), ('Back', 'Back to previous …"
      ]
     },
     "metadata": {},
     "output_type": "display_data"
    },
    {
     "data": {
      "text/plain": [
       "(406.53809747500003, 844.593958375, -1.0, 1.0)"
      ]
     },
     "execution_count": 15,
     "metadata": {},
     "output_type": "execute_result"
    }
   ],
   "source": [
    "%matplotlib widget\n",
    "fig, (ax1, ax2) = plt.subplots(1, 2)\n",
    "\n",
    "ax1.pcolormesh(X,Y,Z, cmap='jet', shading='nearest')\n",
    "ax1.axis(ymin=-1,ymax=1)\n",
    "ax2.pcolormesh(X,Y,Znew, cmap='jet', shading='nearest')\n",
    "ax2.axis(ymin=-1,ymax=1)\n"
   ]
  },
  {
   "cell_type": "code",
   "execution_count": 17,
   "metadata": {},
   "outputs": [
    {
     "name": "stdout",
     "output_type": "stream",
     "text": [
      "Pump Wavelength (nm): 605Pump Wavelength (nm): 605\n",
      "(454, 337)\n"
     ]
    }
   ],
   "source": [
    "filename=\"testdata.csv\"#22BPNODIPS chloroform 600 200mW PTA fixed.csv\n",
    "rawdata = open(filename)\n",
    "\n",
    "#step 1: split the data from the info at the end\n",
    "#making it into new files: optional, can stick them into variables instead\n",
    "fileinfo=filename[0:-4]+\"-info\"+\".csv\"\n",
    "fileinfofile= open(fileinfo, \"w\") #'w' makes it write only so deletes prev version of it\n",
    "justdata=filename[0:-4]+\"-data\"+\".csv\"\n",
    "justdatafile=open(justdata, \"w\")\n",
    "\n",
    "for line in rawdata:\n",
    "    if len(line)<100: #if it is not data but text\n",
    "        fileinfofile.write(line) \n",
    "    #step 2: remove the NaNs at the begining\n",
    "    else: \n",
    "        nan=False\n",
    "        for char in line:\n",
    "            if char == 'N':\n",
    "                nan=True\n",
    "                break\n",
    "        if nan:\n",
    "            continue\n",
    "        else:\n",
    "            justdatafile.write(line)\n",
    "fileinfofile.close() #its good practice to close files :)\n",
    "rawdata.close()\n",
    "justdatafile.close()\n",
    "print((open(fileinfo)).read())\n",
    "dataarray1 = (np.genfromtxt(justdata, delimiter=\",\",  filling_values=0)).T\n",
    "print(np.shape(dataarray1))\n",
    "A=dataarray1[0,1:].T #works\n",
    "B=dataarray1[1:,0]\n",
    "C=dataarray1[1:,1:]\n"
   ]
  },
  {
   "cell_type": "code",
   "execution_count": 44,
   "metadata": {},
   "outputs": [
    {
     "data": {
      "application/vnd.jupyter.widget-view+json": {
       "model_id": "124c311a2f214744b9e6cdd1646c2911",
       "version_major": 2,
       "version_minor": 0
      },
      "text/plain": [
       "Canvas(toolbar=Toolbar(toolitems=[('Home', 'Reset original view', 'home', 'home'), ('Back', 'Back to previous …"
      ]
     },
     "metadata": {},
     "output_type": "display_data"
    },
    {
     "data": {
      "text/plain": [
       "(415.888615, 818.418, -1.0, 10.0)"
      ]
     },
     "execution_count": 44,
     "metadata": {},
     "output_type": "execute_result"
    }
   ],
   "source": [
    "%matplotlib widget\n",
    "fig, (ax1, ax2) = plt.subplots(1, 2)\n",
    "\n",
    "ax1.pcolormesh(X,Y,Znew, cmap='jet', shading='nearest')\n",
    "ax1.axis(ymin=-1,ymax=1)\n",
    "ax2.pcolormesh(A,B,C, cmap='jet', shading='nearest')\n",
    "ax2.axis(ymin=-1,ymax=1)"
   ]
  },
  {
   "cell_type": "code",
   "execution_count": 51,
   "metadata": {},
   "outputs": [
    {
     "data": {
      "application/vnd.jupyter.widget-view+json": {
       "model_id": "f82941c3c0b24e2b8ccc6fa8e422b147",
       "version_major": 2,
       "version_minor": 0
      },
      "text/plain": [
       "Canvas(toolbar=Toolbar(toolitems=[('Home', 'Reset original view', 'home', 'home'), ('Back', 'Back to previous …"
      ]
     },
     "metadata": {},
     "output_type": "display_data"
    },
    {
     "data": {
      "text/plain": [
       "<matplotlib.colorbar.Colorbar at 0x129813a50>"
      ]
     },
     "execution_count": 51,
     "metadata": {},
     "output_type": "execute_result"
    }
   ],
   "source": [
    "#thing to check how different i am from the properly fixed one\n",
    "%matplotlib widget\n",
    "\n",
    "D=Znew[:453,8:344]-C #datasets are different sizes, this centers them\n",
    "for wl in range(0,np.shape(C)[1]): \n",
    "    for t in range(0,np.shape(C)[0]):\n",
    "        D[t,wl]=D[t,wl]-C[t,wl]\n",
    "\n",
    "plt.pcolormesh(X[:336],Y[:453],D, cmap='jet', shading='nearest')\n",
    "plt.ylim(0,10)\n",
    "plt.colorbar()\n"
   ]
  },
  {
   "cell_type": "code",
   "execution_count": 54,
   "metadata": {
    "scrolled": true
   },
   "outputs": [
    {
     "name": "stdout",
     "output_type": "stream",
     "text": [
      "80\n"
     ]
    },
    {
     "data": {
      "application/vnd.jupyter.widget-view+json": {
       "model_id": "70effb736d3542be8b49c06c3dfa7d00",
       "version_major": 2,
       "version_minor": 0
      },
      "text/plain": [
       "Canvas(toolbar=Toolbar(toolitems=[('Home', 'Reset original view', 'home', 'home'), ('Back', 'Back to previous …"
      ]
     },
     "metadata": {},
     "output_type": "display_data"
    },
    {
     "data": {
      "text/plain": [
       "[<matplotlib.lines.Line2D at 0x1366ca910>]"
      ]
     },
     "execution_count": 54,
     "metadata": {},
     "output_type": "execute_result"
    }
   ],
   "source": [
    "%matplotlib widget\n",
    "#input wavelength\n",
    "wl=500\n",
    "#finds closest index to that wl\n",
    "i = np.searchsorted(X, wl)\n",
    "print(i)\n",
    "#get vertical slice\n",
    "slice2=D[:,i]\n",
    "plt.plot(Y[:453],slice2)\n"
   ]
  },
  {
   "cell_type": "code",
   "execution_count": 82,
   "metadata": {
    "scrolled": true
   },
   "outputs": [
    {
     "data": {
      "application/vnd.jupyter.widget-view+json": {
       "model_id": "53d10309b0054981b43568ecc20278c7",
       "version_major": 2,
       "version_minor": 0
      },
      "text/plain": [
       "Canvas(toolbar=Toolbar(toolitems=[('Home', 'Reset original view', 'home', 'home'), ('Back', 'Back to previous …"
      ]
     },
     "metadata": {},
     "output_type": "display_data"
    },
    {
     "data": {
      "application/vnd.jupyter.widget-view+json": {
       "model_id": "5dc910cf271548589f0cc4af20c48abd",
       "version_major": 2,
       "version_minor": 0
      },
      "text/plain": [
       "interactive(children=(IntSlider(value=1246, description='t', max=2500, min=-5, step=3), Output()), _dom_classe…"
      ]
     },
     "metadata": {},
     "output_type": "display_data"
    },
    {
     "data": {
      "text/plain": [
       "<function __main__.slider(t)>"
      ]
     },
     "execution_count": 82,
     "metadata": {},
     "output_type": "execute_result"
    }
   ],
   "source": [
    "%matplotlib widget\n",
    "fig, ax = plt.subplots()\n",
    "\n",
    "\n",
    "def slider(t):\n",
    "    #finds closest index to that wl\n",
    "    i = np.searchsorted(Y, t)\n",
    "    #get vertical slice\n",
    "    slice1=Z[i,:]\n",
    "    [l.remove() for l in ax.lines]\n",
    "    ax.plot(X,slice1,color=\"black\")\n",
    "   \n",
    "    \n",
    "widgets.interact(slider, t=(-5,2500,3))\n"
   ]
  },
  {
   "cell_type": "code",
   "execution_count": 96,
   "metadata": {},
   "outputs": [
    {
     "data": {
      "application/vnd.jupyter.widget-view+json": {
       "model_id": "a100f1d7e3764dec96890e61d03314c2",
       "version_major": 2,
       "version_minor": 0
      },
      "text/plain": [
       "Canvas(toolbar=Toolbar(toolitems=[('Home', 'Reset original view', 'home', 'home'), ('Back', 'Back to previous …"
      ]
     },
     "metadata": {},
     "output_type": "display_data"
    },
    {
     "data": {
      "application/vnd.jupyter.widget-view+json": {
       "model_id": "7084717adf88472da527be8619b9b1a2",
       "version_major": 2,
       "version_minor": 0
      },
      "text/plain": [
       "interactive(children=(IntSlider(value=550, description='wl', max=700, min=400, step=3), Output()), _dom_classe…"
      ]
     },
     "metadata": {},
     "output_type": "display_data"
    },
    {
     "data": {
      "text/plain": [
       "<function __main__.slider(wl)>"
      ]
     },
     "execution_count": 96,
     "metadata": {},
     "output_type": "execute_result"
    }
   ],
   "source": [
    "#trying to make a slider\n",
    "%matplotlib widget\n",
    "fig, ax = plt.subplots()\n",
    "\n",
    "from ipywidgets import Layout\n",
    "def slider(wl):\n",
    "    #finds closest index to that wl\n",
    "    i = np.searchsorted(X, wl)\n",
    "    #get vertical slice\n",
    "    slice2=Z[:,i];\n",
    "    [l.remove() for l in ax.lines]\n",
    "    ax.plot(Y,slice2,color=\"black\")\n",
    "    \n",
    "widgets.interact(slider, wl=(400,700,3))"
   ]
  },
  {
   "cell_type": "code",
   "execution_count": null,
   "metadata": {},
   "outputs": [],
   "source": [
    "#error function....\n",
    "#define parameters of the chunk of plot we r looking at\n",
    "#loop through all vertical slices and do the error function thing\n",
    "#use those points as the curve\n",
    "#stretch/interpolate\n",
    "start=np.searchsorted(Y, 0.6)\n",
    "end=np.searchsorted(Y, -0.6)\n",
    "wl=np.searchsorted(X, 528)\n",
    "error=sp.erf(Z[start:end,wl])\n",
    "print(error)\n"
   ]
  },
  {
   "cell_type": "code",
   "execution_count": null,
   "metadata": {},
   "outputs": [],
   "source": [
    "#saves everything\n",
    "fixeddata =np.insert(Znew,0,Y, axis=1)\n",
    "Xx= np.insert(X,0,0,axis=0)\n",
    "Fixeddata= np.insert(fixeddata,0,Xx,axis=0)\n",
    "np.savetxt(justdata, Fixeddata, delimiter=\",\")"
   ]
  }
 ],
 "metadata": {
  "celltoolbar": "Edit Metadata",
  "kernelspec": {
   "display_name": "Python 3",
   "language": "python",
   "name": "python3"
  },
  "language_info": {
   "codemirror_mode": {
    "name": "ipython",
    "version": 3
   },
   "file_extension": ".py",
   "mimetype": "text/x-python",
   "name": "python",
   "nbconvert_exporter": "python",
   "pygments_lexer": "ipython3",
   "version": "3.7.5"
  }
 },
 "nbformat": 4,
 "nbformat_minor": 4
}
